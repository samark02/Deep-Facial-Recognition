{
 "cells": [
  {
   "cell_type": "code",
   "execution_count": 1,
   "id": "99111fe3",
   "metadata": {},
   "outputs": [
    {
     "name": "stdout",
     "output_type": "stream",
     "text": [
      "^C\n"
     ]
    }
   ],
   "source": [
    "!pip install tensorflow==2.14.1 opencv-python matplotlib"
   ]
  },
  {
   "cell_type": "code",
   "execution_count": 1,
   "id": "81e4de90",
   "metadata": {},
   "outputs": [],
   "source": [
    "#Siamese Neural Network"
   ]
  },
  {
   "cell_type": "code",
   "execution_count": 2,
   "id": "c0a1ef66",
   "metadata": {},
   "outputs": [],
   "source": [
    "#Standard Library\n",
    "import cv2\n",
    "import os\n",
    "import random\n",
    "import numpy as np\n",
    "from matplotlib import pyplot as plt"
   ]
  },
  {
   "cell_type": "code",
   "execution_count": 3,
   "id": "bff0fe74",
   "metadata": {},
   "outputs": [],
   "source": [
    "#tensorflow dependency - Functional API\n",
    "import tensorflow\n",
    "from tensorflow.keras.models import Model\n",
    "from tensorflow.keras.layers import Layer,Conv2D, Dense, MaxPooling2D, Input, Flatten\n",
    "import tensorflow as tf"
   ]
  },
  {
   "cell_type": "code",
   "execution_count": 4,
   "id": "306e761d",
   "metadata": {},
   "outputs": [],
   "source": [
    "#GPU Setup - Consumption\n",
    "\n",
    "# # # gpus=tf.config.experimental.list_physical_devices('GPU')\n",
    "# # for gpu in gpus:\n",
    "#     tf.config.experimental.set_memory_growth(gpu, True)"
   ]
  },
  {
   "cell_type": "code",
   "execution_count": 5,
   "id": "ecc371b9",
   "metadata": {},
   "outputs": [],
   "source": [
    "#Setting Paths\n",
    "\n",
    "POS_PATH = os.path.join('data','positive')\n",
    "NEG_PATH = os.path.join('data','negative')\n",
    "ANC_PATH = os.path.join('data','anchor')"
   ]
  },
  {
   "cell_type": "code",
   "execution_count": 6,
   "id": "dd0031a6",
   "metadata": {},
   "outputs": [],
   "source": [
    "# #Make Directories\n",
    "# os.makedirs(POS_PATH)\n",
    "# os.makedirs(NEG_PATH)\n",
    "# os.makedirs(ANC_PATH)"
   ]
  },
  {
   "cell_type": "code",
   "execution_count": null,
   "id": "bbd1ba7a",
   "metadata": {},
   "outputs": [],
   "source": [
    "# https://vis-www.cs.umass.edu/lfw/\n",
    "\n",
    "#Uncompressing File\n",
    "!tar -xf lfw.tgz"
   ]
  },
  {
   "cell_type": "code",
   "execution_count": null,
   "id": "690bedb4",
   "metadata": {},
   "outputs": [],
   "source": [
    "#Moving Images to data/negative directory\n",
    "\n",
    "for directory in os.listdir('lfw'):\n",
    "    for file in os.listdir(os.path.join('lfw', directory)):\n",
    "        EX_PATH = os.path.join('lfw',directory, file)\n",
    "        NEW_PATH = os.path.join(NEG_PATH, file)\n",
    "        os.replace(EX_PATH,NEW_PATH)"
   ]
  },
  {
   "cell_type": "code",
   "execution_count": 168,
   "id": "b03fbb0e",
   "metadata": {},
   "outputs": [],
   "source": [
    "#uuid library to generate unique image names\n",
    "import uuid"
   ]
  },
  {
   "cell_type": "code",
   "execution_count": 169,
   "id": "284313ee",
   "metadata": {},
   "outputs": [
    {
     "data": {
      "text/plain": [
       "UUID('68fd1c52-d5ff-11ee-b288-f4ee089effb9')"
      ]
     },
     "execution_count": 169,
     "metadata": {},
     "output_type": "execute_result"
    }
   ],
   "source": [
    "uuid.uuid1()"
   ]
  },
  {
   "cell_type": "code",
   "execution_count": 172,
   "id": "592d6225",
   "metadata": {},
   "outputs": [],
   "source": [
    "#Establishing Webcam\n",
    "cap = cv2.VideoCapture(0)\n",
    "while cap.isOpened():\n",
    "    ret, frame = cap.read()\n",
    "    \n",
    "    #Cut down frame to 250x250\n",
    "    frame = frame[150:150+250,230:230+250,:]\n",
    "    \n",
    "    #Collecting Positives\n",
    "    if cv2.waitKey(1) & 0XFF == ord('p'):\n",
    "        #Unique File Path and naming frame\n",
    "        imgname = os.path.join(POS_PATH,'{}.jpg'.format(uuid.uuid1()))\n",
    "        cv2.imwrite(imgname, frame)\n",
    "    \n",
    "    #Collecting Anchor\n",
    "    if cv2.waitKey(1) & 0XFF == ord('a'):\n",
    "        #Unique File Path and naming frame\n",
    "        imgname = os.path.join(ANC_PATH,'{}.jpg'.format(uuid.uuid1()))\n",
    "        cv2.imwrite(imgname, frame)\n",
    "    \n",
    "    #show image back to screen\n",
    "    cv2.imshow('Smile', frame)\n",
    "    \n",
    "    #Break the loop with 'q' button press\n",
    "    if cv2.waitKey(1) & 0XFF == ord('q'):\n",
    "        break\n",
    "\n",
    "#Release the webcam and close the window\n",
    "cap.release()\n",
    "cv2.destroyAllWindows()"
   ]
  },
  {
   "cell_type": "code",
   "execution_count": 173,
   "id": "94ae1b10",
   "metadata": {},
   "outputs": [
    {
     "data": {
      "text/plain": [
       "<matplotlib.image.AxesImage at 0x1be20d88d90>"
      ]
     },
     "execution_count": 173,
     "metadata": {},
     "output_type": "execute_result"
    },
    {
     "data": {
      "image/png": "[encoded data removed]",
      "text/plain": [
       "<Figure size 640x480 with 1 Axes>"
      ]
     },
     "metadata": {},
     "output_type": "display_data"
    }
   ],
   "source": [
    "plt.imshow(frame)"
   ]
  },
  {
   "cell_type": "code",
   "execution_count": 174,
   "id": "91d580e7",
   "metadata": {},
   "outputs": [
    {
     "data": {
      "text/plain": [
       "<matplotlib.image.AxesImage at 0x1be1f465fd0>"
      ]
     },
     "execution_count": 174,
     "metadata": {},
     "output_type": "execute_result"
    },
    {
     "data": {
      "image/png": "[encoded data removed]",
      "text/plain": [
       "<Figure size 640x480 with 1 Axes>"
      ]
     },
     "metadata": {},
     "output_type": "display_data"
    }
   ],
   "source": [
    "plt.imshow(frame[150:150+250,230:230+250,:])"
   ]
  },
  {
   "cell_type": "code",
   "execution_count": 7,
   "id": "d5e19f33",
   "metadata": {},
   "outputs": [],
   "source": [
    "anchor = tf.data.Dataset.list_files(ANC_PATH+'\\*.jpg').take(400)\n",
    "positive = tf.data.Dataset.list_files(POS_PATH+'\\*.jpg').take(400)\n",
    "negative = tf.data.Dataset.list_files(NEG_PATH+'\\*.jpg').take(400)"
   ]
  },
  {
   "cell_type": "code",
   "execution_count": 8,
   "id": "91ca24b4",
   "metadata": {},
   "outputs": [
    {
     "data": {
      "text/plain": [
       "b'data\\\\anchor\\\\f27accbd-c0c0-11ee-88f6-f4ee089effb9.jpg'"
      ]
     },
     "execution_count": 8,
     "metadata": {},
     "output_type": "execute_result"
    }
   ],
   "source": [
    "dir_test = anchor.as_numpy_iterator()\n",
    "dir_test.next()"
   ]
  },
  {
   "cell_type": "code",
   "execution_count": 9,
   "id": "751e39c8",
   "metadata": {},
   "outputs": [
    {
     "data": {
      "text/plain": [
       "'data\\\\positive\\\\*.jpg'"
      ]
     },
     "execution_count": 9,
     "metadata": {},
     "output_type": "execute_result"
    }
   ],
   "source": [
    "POS_PATH+'\\*.jpg'"
   ]
  },
  {
   "cell_type": "code",
   "execution_count": 10,
   "id": "2c1b5711",
   "metadata": {},
   "outputs": [],
   "source": [
    "#Preprocessing and scaling data\n",
    "\n",
    "def preprocess(file_path):\n",
    "    byte_img = tf.io.read_file(file_path) #Reading Image\n",
    "    img = tf.io.decode_jpeg(byte_img) #Load Image\n",
    "    \n",
    "    #resizing to 100x100 according to paper\n",
    "    img = tf.image.resize(img, (100,100))\n",
    "    img = img/255.0 #Scaling image between 0 & 1\n",
    "    return img"
   ]
  },
  {
   "cell_type": "code",
   "execution_count": 11,
   "id": "932c5756",
   "metadata": {},
   "outputs": [
    {
     "data": {
      "text/plain": [
       "<tf.Tensor: shape=(100, 100, 3), dtype=float32, numpy=\n",
       "array([[[0.8784314 , 0.84705883, 0.8039216 ],\n",
       "        [0.8784314 , 0.84705883, 0.8039216 ],\n",
       "        [0.8754902 , 0.85      , 0.8039216 ],\n",
       "        ...,\n",
       "        [0.8303922 , 0.79509807, 0.7362745 ],\n",
       "        [0.8333333 , 0.7980392 , 0.7392157 ],\n",
       "        [0.82254905, 0.7872549 , 0.72843134]],\n",
       "\n",
       "       [[0.87941176, 0.84607846, 0.8039216 ],\n",
       "        [0.87916666, 0.84632355, 0.8039216 ],\n",
       "        [0.8784314 , 0.84705883, 0.8039216 ],\n",
       "        ...,\n",
       "        [0.83137256, 0.79607844, 0.7372549 ],\n",
       "        [0.8252451 , 0.78995097, 0.73112744],\n",
       "        [0.827451  , 0.7921569 , 0.73333335]],\n",
       "\n",
       "       [[0.88235295, 0.84313726, 0.8039216 ],\n",
       "        [0.88210785, 0.84338236, 0.8039216 ],\n",
       "        [0.87916666, 0.84632355, 0.8039216 ],\n",
       "        ...,\n",
       "        [0.8306373 , 0.79534316, 0.73651963],\n",
       "        [0.827451  , 0.7921569 , 0.73333335],\n",
       "        [0.8303922 , 0.79509807, 0.73039216]],\n",
       "\n",
       "       ...,\n",
       "\n",
       "       [[0.84289217, 0.7919118 , 0.75759804],\n",
       "        [0.8421569 , 0.7911765 , 0.75980395],\n",
       "        [0.8392157 , 0.7882353 , 0.75686276],\n",
       "        ...,\n",
       "        [0.80563724, 0.75514704, 0.7019608 ],\n",
       "        [0.80490196, 0.75      , 0.6990196 ],\n",
       "        [0.8029412 , 0.7480392 , 0.6970588 ]],\n",
       "\n",
       "       [[0.8370098 , 0.7948529 , 0.76053923],\n",
       "        [0.8419118 , 0.7997549 , 0.7654412 ],\n",
       "        [0.84411764, 0.80196077, 0.7676471 ],\n",
       "        ...,\n",
       "        [0.80490196, 0.75      , 0.6990196 ],\n",
       "        [0.8041667 , 0.7492647 , 0.6982843 ],\n",
       "        [0.8       , 0.74509805, 0.69411767]],\n",
       "\n",
       "       [[0.8254902 , 0.7823529 , 0.7588235 ],\n",
       "        [0.8392157 , 0.7970588 , 0.7705882 ],\n",
       "        [0.83210784, 0.79289216, 0.75759804],\n",
       "        ...,\n",
       "        [0.8029412 , 0.7480392 , 0.6970588 ],\n",
       "        [0.8029412 , 0.7480392 , 0.6970588 ],\n",
       "        [0.8       , 0.74509805, 0.69411767]]], dtype=float32)>"
      ]
     },
     "execution_count": 11,
     "metadata": {},
     "output_type": "execute_result"
    }
   ],
   "source": [
    "img = preprocess('data\\\\anchor\\\\f5728e8f-c0c0-11ee-bca5-f4ee089effb9.jpg')\n",
    "img"
   ]
  },
  {
   "cell_type": "code",
   "execution_count": 12,
   "id": "3c38baab",
   "metadata": {},
   "outputs": [
    {
     "data": {
      "text/plain": [
       "0.075"
      ]
     },
     "execution_count": 12,
     "metadata": {},
     "output_type": "execute_result"
    }
   ],
   "source": [
    "img.numpy().min()\n",
    "# img.numpy().max()"
   ]
  },
  {
   "cell_type": "code",
   "execution_count": 13,
   "id": "59b2bb99",
   "metadata": {},
   "outputs": [
    {
     "data": {
      "text/plain": [
       "<matplotlib.image.AxesImage at 0x2c37e901c90>"
      ]
     },
     "execution_count": 13,
     "metadata": {},
     "output_type": "execute_result"
    },
    {
     "data": {
      "image/png": "[encoded data removed]",
      "text/plain": [
       "<Figure size 640x480 with 1 Axes>"
      ]
     },
     "metadata": {},
     "output_type": "display_data"
    }
   ],
   "source": [
    "plt.imshow(img)"
   ]
  },
  {
   "cell_type": "code",
   "execution_count": 14,
   "id": "11a01efd",
   "metadata": {},
   "outputs": [],
   "source": [
    "#Creating labelled dataset\n",
    "\n",
    "positives = tf.data.Dataset.zip((anchor,positive, tf.data.Dataset.from_tensor_slices(tf.ones(len(anchor)))))\n",
    "negatives = tf.data.Dataset.zip((anchor,negative, tf.data.Dataset.from_tensor_slices(tf.zeros(len(anchor)))))\n",
    "data = positives.concatenate(negatives)"
   ]
  },
  {
   "cell_type": "code",
   "execution_count": 15,
   "id": "322de4e4",
   "metadata": {},
   "outputs": [
    {
     "data": {
      "text/plain": [
       "<_ConcatenateDataset element_spec=(TensorSpec(shape=(), dtype=tf.string, name=None), TensorSpec(shape=(), dtype=tf.string, name=None), TensorSpec(shape=(), dtype=tf.float32, name=None))>"
      ]
     },
     "execution_count": 15,
     "metadata": {},
     "output_type": "execute_result"
    }
   ],
   "source": [
    "data"
   ]
  },
  {
   "cell_type": "code",
   "execution_count": 16,
   "id": "b58f1444",
   "metadata": {},
   "outputs": [],
   "source": [
    "samples = data.as_numpy_iterator()"
   ]
  },
  {
   "cell_type": "code",
   "execution_count": 17,
   "id": "9db704a7",
   "metadata": {},
   "outputs": [],
   "source": [
    "example = samples.next()"
   ]
  },
  {
   "cell_type": "code",
   "execution_count": 18,
   "id": "e2338fa3",
   "metadata": {},
   "outputs": [
    {
     "data": {
      "text/plain": [
       "(b'data\\\\anchor\\\\ff541611-c0c0-11ee-8606-f4ee089effb9.jpg',\n",
       " b'data\\\\positive\\\\0d119be5-c0c1-11ee-b76c-f4ee089effb9.jpg',\n",
       " 1.0)"
      ]
     },
     "execution_count": 18,
     "metadata": {},
     "output_type": "execute_result"
    }
   ],
   "source": [
    "example"
   ]
  },
  {
   "cell_type": "code",
   "execution_count": 19,
   "id": "446b0d0d",
   "metadata": {},
   "outputs": [],
   "source": [
    "def preprocess_twin(input_img, validation_img, label):\n",
    "    return (preprocess(input_img), preprocess(validation_img), label)"
   ]
  },
  {
   "cell_type": "code",
   "execution_count": 20,
   "id": "753ea07c",
   "metadata": {},
   "outputs": [],
   "source": [
    "res = preprocess_twin(*example)"
   ]
  },
  {
   "cell_type": "code",
   "execution_count": 21,
   "id": "50391de8",
   "metadata": {},
   "outputs": [
    {
     "data": {
      "text/plain": [
       "<matplotlib.image.AxesImage at 0x2c37e901990>"
      ]
     },
     "execution_count": 21,
     "metadata": {},
     "output_type": "execute_result"
    },
    {
     "data": {
      "image/png": "[encoded data removed]",
      "text/plain": [
       "<Figure size 640x480 with 1 Axes>"
      ]
     },
     "metadata": {},
     "output_type": "display_data"
    }
   ],
   "source": [
    "plt.imshow(res[1])"
   ]
  },
  {
   "cell_type": "code",
   "execution_count": 22,
   "id": "91a51277",
   "metadata": {},
   "outputs": [
    {
     "data": {
      "text/plain": [
       "1.0"
      ]
     },
     "execution_count": 22,
     "metadata": {},
     "output_type": "execute_result"
    }
   ],
   "source": [
    "res[2]"
   ]
  },
  {
   "cell_type": "code",
   "execution_count": 23,
   "id": "2a16cb93",
   "metadata": {},
   "outputs": [],
   "source": [
    "#Dataloader pipeline\n",
    "data = data.map(preprocess_twin)\n",
    "data = data.cache()\n",
    "data = data.shuffle(buffer_size=1024)"
   ]
  },
  {
   "cell_type": "code",
   "execution_count": 24,
   "id": "09d0c128",
   "metadata": {},
   "outputs": [
    {
     "data": {
      "text/plain": [
       "<_ShuffleDataset element_spec=(TensorSpec(shape=(100, 100, None), dtype=tf.float32, name=None), TensorSpec(shape=(100, 100, None), dtype=tf.float32, name=None), TensorSpec(shape=(), dtype=tf.float32, name=None))>"
      ]
     },
     "execution_count": 24,
     "metadata": {},
     "output_type": "execute_result"
    }
   ],
   "source": [
    "data"
   ]
  },
  {
   "cell_type": "code",
   "execution_count": 25,
   "id": "7adb9f34",
   "metadata": {},
   "outputs": [],
   "source": [
    "samples = data.as_numpy_iterator()"
   ]
  },
  {
   "cell_type": "code",
   "execution_count": 26,
   "id": "e63e2db2",
   "metadata": {},
   "outputs": [],
   "source": [
    "samp = samples.next()"
   ]
  },
  {
   "cell_type": "code",
   "execution_count": 27,
   "id": "8e39f009",
   "metadata": {},
   "outputs": [
    {
     "data": {
      "text/plain": [
       "<matplotlib.image.AxesImage at 0x2c37f986290>"
      ]
     },
     "execution_count": 27,
     "metadata": {},
     "output_type": "execute_result"
    },
    {
     "data": {
      "image/png": "[encoded data removed]",
      "text/plain": [
       "<Figure size 640x480 with 1 Axes>"
      ]
     },
     "metadata": {},
     "output_type": "display_data"
    }
   ],
   "source": [
    "plt.imshow(samp[1])"
   ]
  },
  {
   "cell_type": "code",
   "execution_count": 28,
   "id": "afc40e0d",
   "metadata": {},
   "outputs": [
    {
     "data": {
      "text/plain": [
       "1.0"
      ]
     },
     "execution_count": 28,
     "metadata": {},
     "output_type": "execute_result"
    }
   ],
   "source": [
    "samp[2]"
   ]
  },
  {
   "cell_type": "code",
   "execution_count": 29,
   "id": "88638af7",
   "metadata": {},
   "outputs": [],
   "source": [
    "#training partition\n",
    "\n",
    "train_data = data.take(round(len(data)*.7))\n",
    "train_data = train_data.batch(16)\n",
    "train_data = train_data.prefetch(8)"
   ]
  },
  {
   "cell_type": "code",
   "execution_count": 30,
   "id": "f42c7991",
   "metadata": {},
   "outputs": [
    {
     "data": {
      "text/plain": [
       "<_PrefetchDataset element_spec=(TensorSpec(shape=(None, 100, 100, None), dtype=tf.float32, name=None), TensorSpec(shape=(None, 100, 100, None), dtype=tf.float32, name=None), TensorSpec(shape=(None,), dtype=tf.float32, name=None))>"
      ]
     },
     "execution_count": 30,
     "metadata": {},
     "output_type": "execute_result"
    }
   ],
   "source": [
    "train_data"
   ]
  },
  {
   "cell_type": "code",
   "execution_count": 31,
   "id": "5d8ebe59",
   "metadata": {},
   "outputs": [],
   "source": [
    "train_samples = train_data.as_numpy_iterator()"
   ]
  },
  {
   "cell_type": "code",
   "execution_count": 32,
   "id": "fe881fcb",
   "metadata": {},
   "outputs": [],
   "source": [
    "train_sample = train_samples.next()"
   ]
  },
  {
   "cell_type": "code",
   "execution_count": 33,
   "id": "a65f3cff",
   "metadata": {},
   "outputs": [
    {
     "data": {
      "text/plain": [
       "(array([[[[0.87058824, 0.8352941 , 0.8       ],\n",
       "          [0.87941176, 0.8401961 , 0.80490196],\n",
       "          [0.88161767, 0.842402  , 0.80710787],\n",
       "          ...,\n",
       "          [0.8264706 , 0.7911765 , 0.7323529 ],\n",
       "          [0.8252451 , 0.78995097, 0.73112744],\n",
       "          [0.82254905, 0.78333336, 0.7362745 ]],\n",
       " \n",
       "         [[0.872549  , 0.8362745 , 0.8009804 ],\n",
       "          [0.8752451 , 0.8360294 , 0.8007353 ],\n",
       "          [0.8813726 , 0.8421569 , 0.8068628 ],\n",
       "          ...,\n",
       "          [0.827451  , 0.7921569 , 0.73333335],\n",
       "          [0.827451  , 0.7921569 , 0.73333335],\n",
       "          [0.8235294 , 0.7852941 , 0.7352941 ]],\n",
       " \n",
       "         [[0.8754902 , 0.8362745 , 0.8009804 ],\n",
       "          [0.8747549 , 0.8362745 , 0.8009804 ],\n",
       "          [0.8754902 , 0.8392157 , 0.8039216 ],\n",
       "          ...,\n",
       "          [0.8242647 , 0.7948529 , 0.7286765 ],\n",
       "          [0.82058823, 0.7911765 , 0.7294118 ],\n",
       "          [0.8235294 , 0.7941176 , 0.7323529 ]],\n",
       " \n",
       "         ...,\n",
       " \n",
       "         [[0.8262255 , 0.7879902 , 0.7884804 ],\n",
       "          [0.827451  , 0.79019606, 0.7823529 ],\n",
       "          [0.82598037, 0.78382355, 0.7710784 ],\n",
       "          ...,\n",
       "          [0.8039216 , 0.7490196 , 0.7058824 ],\n",
       "          [0.8031863 , 0.74828434, 0.7051471 ],\n",
       "          [0.8039216 , 0.7490196 , 0.69803923]],\n",
       " \n",
       "         [[0.9262255 , 0.9098039 , 0.9433824 ],\n",
       "          [0.90906864, 0.88848037, 0.9117647 ],\n",
       "          [0.8897059 , 0.8691176 , 0.8843137 ],\n",
       "          ...,\n",
       "          [0.8009804 , 0.74607843, 0.7029412 ],\n",
       "          [0.8       , 0.74509805, 0.7019608 ],\n",
       "          [0.8029412 , 0.7480392 , 0.7029412 ]],\n",
       " \n",
       "         [[0.86715686, 0.8656863 , 0.90563726],\n",
       "          [0.8963235 , 0.8931373 , 0.9245098 ],\n",
       "          [0.90955883, 0.904902  , 0.9384804 ],\n",
       "          ...,\n",
       "          [0.79901963, 0.7441176 , 0.70098037],\n",
       "          [0.8017157 , 0.7468137 , 0.70367646],\n",
       "          [0.8039216 , 0.7490196 , 0.7058824 ]]],\n",
       " \n",
       " \n",
       "        [[[0.8745098 , 0.8509804 , 0.8039216 ],\n",
       "          [0.8745098 , 0.8509804 , 0.80196077],\n",
       "          [0.87671566, 0.85318625, 0.7982843 ],\n",
       "          ...,\n",
       "          [0.8352941 , 0.79607844, 0.7490196 ],\n",
       "          [0.83210784, 0.79289216, 0.74583334],\n",
       "          [0.82843137, 0.7892157 , 0.74215686]],\n",
       " \n",
       "         [[0.8754902 , 0.8519608 , 0.79901963],\n",
       "          [0.87058824, 0.84705883, 0.7941176 ],\n",
       "          [0.8745098 , 0.8509804 , 0.7980392 ],\n",
       "          ...,\n",
       "          [0.8360294 , 0.8007353 , 0.74191177],\n",
       "          [0.83235294, 0.7970588 , 0.7382353 ],\n",
       "          [0.82941175, 0.7941176 , 0.7352941 ]],\n",
       " \n",
       "         [[0.8806372 , 0.8512255 , 0.8012255 ],\n",
       "          [0.8742647 , 0.8507353 , 0.7992647 ],\n",
       "          [0.8745098 , 0.8509804 , 0.8039216 ],\n",
       "          ...,\n",
       "          [0.83235294, 0.7970588 , 0.7323529 ],\n",
       "          [0.82941175, 0.7941176 , 0.7294118 ],\n",
       "          [0.83235294, 0.7970588 , 0.7323529 ]],\n",
       " \n",
       "         ...,\n",
       " \n",
       "         [[0.8477941 , 0.7997549 , 0.7556372 ],\n",
       "          [0.84705883, 0.79607844, 0.7610294 ],\n",
       "          [0.85      , 0.79313725, 0.7639706 ],\n",
       "          ...,\n",
       "          [0.8117647 , 0.75686276, 0.7058824 ],\n",
       "          [0.80857843, 0.7536765 , 0.7026961 ],\n",
       "          [0.8127451 , 0.7519608 , 0.70098037]],\n",
       " \n",
       "         [[0.84705883, 0.79607844, 0.7637255 ],\n",
       "          [0.84705883, 0.79607844, 0.7639706 ],\n",
       "          [0.85294116, 0.79607844, 0.7676471 ],\n",
       "          ...,\n",
       "          [0.8088235 , 0.75392157, 0.7029412 ],\n",
       "          [0.80784315, 0.7529412 , 0.7019608 ],\n",
       "          [0.80784315, 0.7529412 , 0.7019608 ]],\n",
       " \n",
       "         [[0.8509804 , 0.8       , 0.7764706 ],\n",
       "          [0.8509804 , 0.8       , 0.7764706 ],\n",
       "          [0.85      , 0.79901963, 0.76960784],\n",
       "          ...,\n",
       "          [0.80784315, 0.7529412 , 0.7019608 ],\n",
       "          [0.80490196, 0.7558824 , 0.7019608 ],\n",
       "          [0.80784315, 0.7529412 , 0.7019608 ]]],\n",
       " \n",
       " \n",
       "        [[[0.85882354, 0.84313726, 0.8       ],\n",
       "          [0.8607843 , 0.845098  , 0.80196077],\n",
       "          [0.8666667 , 0.8509804 , 0.80784315],\n",
       "          ...,\n",
       "          [0.83137256, 0.79607844, 0.7352941 ],\n",
       "          [0.82843137, 0.79313725, 0.7264706 ],\n",
       "          [0.8245098 , 0.7892157 , 0.722549  ]],\n",
       " \n",
       "         [[0.8666667 , 0.8401961 , 0.79901963],\n",
       "          [0.8637255 , 0.8372549 , 0.79607844],\n",
       "          [0.87058824, 0.84411764, 0.8029412 ],\n",
       "          ...,\n",
       "          [0.8303922 , 0.7970588 , 0.7372549 ],\n",
       "          [0.827451  , 0.7941176 , 0.7343137 ],\n",
       "          [0.81960785, 0.7862745 , 0.7205882 ]],\n",
       " \n",
       "         [[0.86764705, 0.84411764, 0.7970588 ],\n",
       "          [0.86740196, 0.84387255, 0.7968137 ],\n",
       "          [0.87058824, 0.84705883, 0.8       ],\n",
       "          ...,\n",
       "          [0.8245098 , 0.7941176 , 0.74019605],\n",
       "          [0.8267157 , 0.79632354, 0.74240196],\n",
       "          [0.82058823, 0.79313725, 0.73039216]],\n",
       " \n",
       "         ...,\n",
       " \n",
       "         [[0.8490196 , 0.7980392 , 0.76862746],\n",
       "          [0.8448529 , 0.79338235, 0.7642157 ],\n",
       "          [0.84093136, 0.7857843 , 0.752451  ],\n",
       "          ...,\n",
       "          [0.8029412 , 0.7480392 , 0.6970588 ],\n",
       "          [0.8039216 , 0.7490196 , 0.69803923],\n",
       "          [0.7970588 , 0.74215686, 0.6911765 ]],\n",
       " \n",
       "         [[0.8401961 , 0.7948529 , 0.7794118 ],\n",
       "          [0.84093136, 0.79558825, 0.7801471 ],\n",
       "          [0.8490196 , 0.79313725, 0.7794118 ],\n",
       "          ...,\n",
       "          [0.8029412 , 0.7509804 , 0.6911765 ],\n",
       "          [0.8007353 , 0.7487745 , 0.68897057],\n",
       "          [0.7970588 , 0.74509805, 0.6852941 ]],\n",
       " \n",
       "         [[0.86151963, 0.8254902 , 0.83137256],\n",
       "          [0.847549  , 0.8088235 , 0.814951  ],\n",
       "          [0.8242647 , 0.7848039 , 0.7894608 ],\n",
       "          ...,\n",
       "          [0.8       , 0.7490196 , 0.6862745 ],\n",
       "          [0.8007353 , 0.7497549 , 0.6870098 ],\n",
       "          [0.79019606, 0.7392157 , 0.6764706 ]]],\n",
       " \n",
       " \n",
       "        ...,\n",
       " \n",
       " \n",
       "        [[[0.8813726 , 0.8421569 , 0.8029412 ],\n",
       "          [0.8862745 , 0.84705883, 0.80784315],\n",
       "          [0.8784314 , 0.8392157 , 0.8       ],\n",
       "          ...,\n",
       "          [0.84289217, 0.79583335, 0.7409314 ],\n",
       "          [0.84142154, 0.7943627 , 0.73946077],\n",
       "          [0.84313726, 0.79607844, 0.7411765 ]],\n",
       " \n",
       "         [[0.88235295, 0.84313726, 0.8039216 ],\n",
       "          [0.87941176, 0.8401961 , 0.8009804 ],\n",
       "          [0.88529414, 0.84607846, 0.8068628 ],\n",
       "          ...,\n",
       "          [0.84117645, 0.79607844, 0.74313724],\n",
       "          [0.8401961 , 0.79509807, 0.74215686],\n",
       "          [0.84117645, 0.79607844, 0.74313724]],\n",
       " \n",
       "         [[0.8872549 , 0.8480392 , 0.8088235 ],\n",
       "          [0.8862745 , 0.84705883, 0.80784315],\n",
       "          [0.88553923, 0.84632355, 0.80710787],\n",
       "          ...,\n",
       "          [0.8352941 , 0.79901963, 0.74313724],\n",
       "          [0.83137256, 0.79509807, 0.7392157 ],\n",
       "          [0.8352941 , 0.79901963, 0.74313724]],\n",
       " \n",
       "         ...,\n",
       " \n",
       "         [[0.85882354, 0.7941176 , 0.7637255 ],\n",
       "          [0.8544118 , 0.7919118 , 0.7607843 ],\n",
       "          [0.8509804 , 0.79509807, 0.7617647 ],\n",
       "          ...,\n",
       "          [0.81397057, 0.76004905, 0.70612746],\n",
       "          [0.8088235 , 0.75710785, 0.6965686 ],\n",
       "          [0.81078434, 0.75980395, 0.6970588 ]],\n",
       " \n",
       "         [[0.8490196 , 0.79607844, 0.77156866],\n",
       "          [0.8509804 , 0.7980392 , 0.77205884],\n",
       "          [0.8509804 , 0.7980392 , 0.7676471 ],\n",
       "          ...,\n",
       "          [0.8088235 , 0.75784314, 0.69509804],\n",
       "          [0.80563724, 0.75465685, 0.69191176],\n",
       "          [0.80490196, 0.75392157, 0.6911765 ]],\n",
       " \n",
       "         [[0.8419118 , 0.7987745 , 0.7830882 ],\n",
       "          [0.845098  , 0.79338235, 0.77205884],\n",
       "          [0.84411764, 0.79313725, 0.7637255 ],\n",
       "          ...,\n",
       "          [0.8039216 , 0.7529412 , 0.6901961 ],\n",
       "          [0.80490196, 0.75392157, 0.6911765 ],\n",
       "          [0.8039216 , 0.7529412 , 0.6901961 ]]],\n",
       " \n",
       " \n",
       "        [[[0.8637255 , 0.8480392 , 0.8009804 ],\n",
       "          [0.8661765 , 0.8509804 , 0.8036765 ],\n",
       "          [0.85882354, 0.8509804 , 0.8       ],\n",
       "          ...,\n",
       "          [0.8264706 , 0.79509807, 0.7441176 ],\n",
       "          [0.8235294 , 0.7921569 , 0.7411765 ],\n",
       "          [0.8235294 , 0.7921569 , 0.7411765 ]],\n",
       " \n",
       "         [[0.8720588 , 0.84656864, 0.8004902 ],\n",
       "          [0.8686274 , 0.845098  , 0.7980392 ],\n",
       "          [0.8627451 , 0.845098  , 0.7980392 ],\n",
       "          ...,\n",
       "          [0.83137256, 0.7921569 , 0.74509805],\n",
       "          [0.8267157 , 0.7875    , 0.7404412 ],\n",
       "          [0.827451  , 0.7882353 , 0.7411765 ]],\n",
       " \n",
       "         [[0.8757353 , 0.84436274, 0.8012255 ],\n",
       "          [0.8686274 , 0.8392157 , 0.79509807],\n",
       "          [0.8693628 , 0.84583336, 0.7987745 ],\n",
       "          ...,\n",
       "          [0.8281863 , 0.7889706 , 0.74191177],\n",
       "          [0.8245098 , 0.7852941 , 0.7382353 ],\n",
       "          [0.827451  , 0.7882353 , 0.7411765 ]],\n",
       " \n",
       "         ...,\n",
       " \n",
       "         [[0.84436274, 0.7875    , 0.7610294 ],\n",
       "          [0.8421569 , 0.7852941 , 0.7588235 ],\n",
       "          [0.84705883, 0.79019606, 0.7637255 ],\n",
       "          ...,\n",
       "          [0.79534316, 0.74828434, 0.6933824 ],\n",
       "          [0.8061274 , 0.7590686 , 0.70416665],\n",
       "          [0.7970588 , 0.75      , 0.69509804]],\n",
       " \n",
       "         [[0.81911767, 0.77892154, 0.77205884],\n",
       "          [0.8360294 , 0.7943627 , 0.7848039 ],\n",
       "          [0.8453431 , 0.7992647 , 0.79044116],\n",
       "          ...,\n",
       "          [0.8       , 0.7529412 , 0.69803923],\n",
       "          [0.7977941 , 0.7507353 , 0.6958333 ],\n",
       "          [0.7941176 , 0.7470588 , 0.69215685]],\n",
       " \n",
       "         [[0.8879902 , 0.8654412 , 0.88308823],\n",
       "          [0.8745098 , 0.8517157 , 0.86740196],\n",
       "          [0.8573529 , 0.82279414, 0.8362745 ],\n",
       "          ...,\n",
       "          [0.80563724, 0.7507353 , 0.6997549 ],\n",
       "          [0.79607844, 0.7411765 , 0.6901961 ],\n",
       "          [0.8       , 0.74509805, 0.69411767]]],\n",
       " \n",
       " \n",
       "        [[[0.8745098 , 0.8392157 , 0.8039216 ],\n",
       "          [0.8762255 , 0.839951  , 0.80465686],\n",
       "          [0.8784314 , 0.8392157 , 0.8039216 ],\n",
       "          ...,\n",
       "          [0.83137256, 0.7921569 , 0.74509805],\n",
       "          [0.83137256, 0.7921569 , 0.74509805],\n",
       "          [0.8245098 , 0.7852941 , 0.7382353 ]],\n",
       " \n",
       "         [[0.8715686 , 0.8352941 , 0.8       ],\n",
       "          [0.8745098 , 0.8384804 , 0.8031863 ],\n",
       "          [0.88039213, 0.8421569 , 0.8068628 ],\n",
       "          ...,\n",
       "          [0.8281863 , 0.7889706 , 0.74191177],\n",
       "          [0.827451  , 0.7882353 , 0.7411765 ],\n",
       "          [0.8245098 , 0.7852941 , 0.7382353 ]],\n",
       " \n",
       "         [[0.8776961 , 0.8384804 , 0.8031863 ],\n",
       "          [0.8745098 , 0.8362745 , 0.8009804 ],\n",
       "          [0.8752451 , 0.8392157 , 0.8039216 ],\n",
       "          ...,\n",
       "          [0.8333333 , 0.7882353 , 0.7411765 ],\n",
       "          [0.8362745 , 0.7911765 , 0.7441176 ],\n",
       "          [0.8362745 , 0.7911765 , 0.7441176 ]],\n",
       " \n",
       "         ...,\n",
       " \n",
       "         [[0.83431375, 0.79509807, 0.75686276],\n",
       "          [0.8492647 , 0.7982843 , 0.7639706 ],\n",
       "          [0.8421569 , 0.7875    , 0.75392157],\n",
       "          ...,\n",
       "          [0.8029412 , 0.75      , 0.69803923],\n",
       "          [0.8031863 , 0.7502451 , 0.6982843 ],\n",
       "          [0.80196077, 0.7490196 , 0.6970588 ]],\n",
       " \n",
       "         [[0.8333333 , 0.7968137 , 0.76960784],\n",
       "          [0.8333333 , 0.7882353 , 0.7627451 ],\n",
       "          [0.84044117, 0.7894608 , 0.7647059 ],\n",
       "          ...,\n",
       "          [0.8       , 0.7529412 , 0.69803923],\n",
       "          [0.8002451 , 0.7531863 , 0.6982843 ],\n",
       "          [0.7941176 , 0.7470588 , 0.6862745 ]],\n",
       " \n",
       "         [[0.8215686 , 0.7892157 , 0.78431374],\n",
       "          [0.8333333 , 0.79558825, 0.7879902 ],\n",
       "          [0.83161765, 0.79240197, 0.7848039 ],\n",
       "          ...,\n",
       "          [0.8       , 0.7529412 , 0.69803923],\n",
       "          [0.7970588 , 0.75      , 0.68921566],\n",
       "          [0.79607844, 0.7490196 , 0.6862745 ]]]], dtype=float32),\n",
       " array([[[[0.88210785, 0.84289217, 0.8036765 ],\n",
       "          [0.88259804, 0.84338236, 0.8041667 ],\n",
       "          [0.8833333 , 0.84411764, 0.80490196],\n",
       "          ...,\n",
       "          [0.83431375, 0.7980392 , 0.74215686],\n",
       "          [0.83210784, 0.79289216, 0.74583334],\n",
       "          [0.8303922 , 0.7911765 , 0.7441176 ]],\n",
       " \n",
       "         [[0.8901961 , 0.8509804 , 0.8117647 ],\n",
       "          [0.8862745 , 0.84705883, 0.80784315],\n",
       "          [0.8840686 , 0.8448529 , 0.80563724],\n",
       "          ...,\n",
       "          [0.84093136, 0.80269605, 0.74485296],\n",
       "          [0.83431375, 0.79607844, 0.7382353 ],\n",
       "          [0.83431375, 0.79313725, 0.7441176 ]],\n",
       " \n",
       "         [[0.8872549 , 0.8480392 , 0.8088235 ],\n",
       "          [0.88553923, 0.84632355, 0.80710787],\n",
       "          [0.8833333 , 0.84411764, 0.80490196],\n",
       "          ...,\n",
       "          [0.83259803, 0.7943627 , 0.73063725],\n",
       "          [0.82965684, 0.7914216 , 0.72769606],\n",
       "          [0.8303922 , 0.7921569 , 0.7343137 ]],\n",
       " \n",
       "         ...,\n",
       " \n",
       "         [[0.8490196 , 0.79509807, 0.75980395],\n",
       "          [0.8485294 , 0.7921569 , 0.7561275 ],\n",
       "          [0.8536765 , 0.78995097, 0.75171566],\n",
       "          ...,\n",
       "          [0.81985295, 0.75710785, 0.69534314],\n",
       "          [0.81985295, 0.75710785, 0.69534314],\n",
       "          [0.80784315, 0.74509805, 0.6862745 ]],\n",
       " \n",
       "         [[0.84411764, 0.8012255 , 0.7683824 ],\n",
       "          [0.8490196 , 0.80441177, 0.76985294],\n",
       "          [0.8480392 , 0.79607844, 0.7637255 ],\n",
       "          ...,\n",
       "          [0.81960785, 0.75686276, 0.69803923],\n",
       "          [0.81740195, 0.75465685, 0.7002451 ],\n",
       "          [0.8156863 , 0.7529412 , 0.7       ]],\n",
       " \n",
       "         [[0.8419118 , 0.80269605, 0.79583335],\n",
       "          [0.8357843 , 0.7977941 , 0.78137255],\n",
       "          [0.84338236, 0.7943627 , 0.7713235 ],\n",
       "          ...,\n",
       "          [0.8235294 , 0.7607843 , 0.70980394],\n",
       "          [0.81666666, 0.75392157, 0.7029412 ],\n",
       "          [0.81078434, 0.7480392 , 0.6970588 ]]],\n",
       " \n",
       " \n",
       "        [[[0.01568628, 0.02352941, 0.00392157],\n",
       "          [0.02156863, 0.02647059, 0.00686275],\n",
       "          [0.03333334, 0.02352941, 0.00098039],\n",
       "          ...,\n",
       "          [0.28431374, 0.16666667, 0.06740196],\n",
       "          [0.31446078, 0.19313726, 0.08799019],\n",
       "          [0.35686275, 0.23627451, 0.12843138]],\n",
       " \n",
       "         [[0.01397059, 0.02181373, 0.00220588],\n",
       "          [0.02083333, 0.02573529, 0.00612745],\n",
       "          [0.03333334, 0.02352941, 0.00098039],\n",
       "          ...,\n",
       "          [0.40882352, 0.2509804 , 0.1254902 ],\n",
       "          [0.42647058, 0.26862746, 0.14313726],\n",
       "          [0.44607842, 0.2882353 , 0.15686275]],\n",
       " \n",
       "         [[0.01176471, 0.01960784, 0.        ],\n",
       "          [0.01789216, 0.02279412, 0.00318627],\n",
       "          [0.03333334, 0.02352941, 0.00098039],\n",
       "          ...,\n",
       "          [0.5026961 , 0.3115196 , 0.15661764],\n",
       "          [0.52794117, 0.3367647 , 0.18186274],\n",
       "          [0.53357846, 0.33357844, 0.18161765]],\n",
       " \n",
       "         ...,\n",
       " \n",
       "         [[0.06495098, 0.08063725, 0.07671569],\n",
       "          [0.06789216, 0.08357843, 0.07965686],\n",
       "          [0.0620098 , 0.07769608, 0.07377451],\n",
       "          ...,\n",
       "          [0.07426471, 0.09583333, 0.07132353],\n",
       "          [0.38210785, 0.41838235, 0.3879902 ],\n",
       "          [0.8112745 , 0.8504902 , 0.81911767]],\n",
       " \n",
       "         [[0.06740196, 0.08308823, 0.07916667],\n",
       "          [0.05882353, 0.07450981, 0.07058824],\n",
       "          [0.05882353, 0.07450981, 0.07058824],\n",
       "          ...,\n",
       "          [0.08578432, 0.10735294, 0.08284314],\n",
       "          [0.16740195, 0.20367648, 0.1732843 ],\n",
       "          [0.7595588 , 0.7987745 , 0.76740193]],\n",
       " \n",
       "         [[0.07745098, 0.09313726, 0.08921569],\n",
       "          [0.06764706, 0.08333334, 0.07941177],\n",
       "          [0.06470589, 0.08039216, 0.07647059],\n",
       "          ...,\n",
       "          [0.07132353, 0.09289216, 0.06838235],\n",
       "          [0.1125    , 0.1487745 , 0.11838235],\n",
       "          [0.5477941 , 0.5870098 , 0.55563724]]],\n",
       " \n",
       " \n",
       "        [[[0.        , 0.        , 0.        ],\n",
       "          [0.        , 0.        , 0.        ],\n",
       "          [0.        , 0.        , 0.        ],\n",
       "          ...,\n",
       "          [0.        , 0.        , 0.        ],\n",
       "          [0.        , 0.        , 0.        ],\n",
       "          [0.        , 0.        , 0.        ]],\n",
       " \n",
       "         [[0.        , 0.        , 0.        ],\n",
       "          [0.        , 0.        , 0.        ],\n",
       "          [0.        , 0.        , 0.        ],\n",
       "          ...,\n",
       "          [0.        , 0.        , 0.        ],\n",
       "          [0.        , 0.        , 0.        ],\n",
       "          [0.        , 0.        , 0.        ]],\n",
       " \n",
       "         [[0.        , 0.        , 0.        ],\n",
       "          [0.        , 0.        , 0.        ],\n",
       "          [0.        , 0.        , 0.        ],\n",
       "          ...,\n",
       "          [0.        , 0.        , 0.        ],\n",
       "          [0.        , 0.        , 0.        ],\n",
       "          [0.        , 0.        , 0.        ]],\n",
       " \n",
       "         ...,\n",
       " \n",
       "         [[0.06887255, 0.08308823, 0.09411765],\n",
       "          [0.0497549 , 0.07205883, 0.08897059],\n",
       "          [0.05588235, 0.06151961, 0.08872549],\n",
       "          ...,\n",
       "          [0.91862744, 0.85784316, 0.50392157],\n",
       "          [0.97745097, 0.910049  , 0.56642157],\n",
       "          [0.9502451 , 0.8720588 , 0.52230394]],\n",
       " \n",
       "         [[0.05220588, 0.08455882, 0.06985294],\n",
       "          [0.05269608, 0.0870098 , 0.08186275],\n",
       "          [0.04313726, 0.05759804, 0.07107843],\n",
       "          ...,\n",
       "          [0.85808825, 0.7973039 , 0.44338235],\n",
       "          [0.9257353 , 0.85906863, 0.5095588 ],\n",
       "          [0.9615196 , 0.8870098 , 0.5262255 ]],\n",
       " \n",
       "         [[0.08014706, 0.1125    , 0.0497549 ],\n",
       "          [0.12843138, 0.16838235, 0.1245098 ],\n",
       "          [0.07034314, 0.09264706, 0.07352941],\n",
       "          ...,\n",
       "          [0.8161765 , 0.75539213, 0.39362746],\n",
       "          [0.8720588 , 0.80539215, 0.46029413],\n",
       "          [0.8990196 , 0.8237745 , 0.46519607]]],\n",
       " \n",
       " \n",
       "        ...,\n",
       " \n",
       " \n",
       "        [[[0.8862745 , 0.85490197, 0.8117647 ],\n",
       "          [0.88529414, 0.8539216 , 0.81078434],\n",
       "          [0.88235295, 0.8509804 , 0.80784315],\n",
       "          ...,\n",
       "          [0.8382353 , 0.8029412 , 0.7362745 ],\n",
       "          [0.8392157 , 0.8039216 , 0.7372549 ],\n",
       "          [0.8392157 , 0.80784315, 0.73333335]],\n",
       " \n",
       "         [[0.8833333 , 0.8519608 , 0.8088235 ],\n",
       "          [0.88529414, 0.8539216 , 0.81078434],\n",
       "          [0.88210785, 0.8507353 , 0.80759805],\n",
       "          ...,\n",
       "          [0.84607846, 0.8122549 , 0.7441176 ],\n",
       "          [0.8401961 , 0.80490196, 0.7382353 ],\n",
       "          [0.8382353 , 0.8029412 , 0.7362745 ]],\n",
       " \n",
       "         [[0.88259804, 0.8512255 , 0.80808824],\n",
       "          [0.88529414, 0.8539216 , 0.81078434],\n",
       "          [0.8813726 , 0.85      , 0.8068628 ],\n",
       "          ...,\n",
       "          [0.8372549 , 0.80857843, 0.7345588 ],\n",
       "          [0.8384804 , 0.8039216 , 0.7357843 ],\n",
       "          [0.8382353 , 0.8029412 , 0.7362745 ]],\n",
       " \n",
       "         ...,\n",
       " \n",
       "         [[0.8519608 , 0.8009804 , 0.76960784],\n",
       "          [0.85      , 0.79901963, 0.7647059 ],\n",
       "          [0.84705883, 0.79607844, 0.7610294 ],\n",
       "          ...,\n",
       "          [0.8154412 , 0.7644608 , 0.7       ],\n",
       "          [0.8154412 , 0.7644608 , 0.69779414],\n",
       "          [0.8088235 , 0.75784314, 0.6911765 ]],\n",
       " \n",
       "         [[0.8490196 , 0.8039216 , 0.77843136],\n",
       "          [0.84632355, 0.7997549 , 0.7727941 ],\n",
       "          [0.84607846, 0.79509807, 0.7629902 ],\n",
       "          ...,\n",
       "          [0.8147059 , 0.7637255 , 0.6970588 ],\n",
       "          [0.8125    , 0.7615196 , 0.69485295],\n",
       "          [0.8098039 , 0.7588235 , 0.69215685]],\n",
       " \n",
       "         [[0.8421569 , 0.79901963, 0.78333336],\n",
       "          [0.8480392 , 0.8029412 , 0.7794118 ],\n",
       "          [0.84705883, 0.79607844, 0.76666665],\n",
       "          ...,\n",
       "          [0.8125    , 0.7615196 , 0.69485295],\n",
       "          [0.8127451 , 0.7617647 , 0.69509804],\n",
       "          [0.8127451 , 0.7617647 , 0.69509804]]],\n",
       " \n",
       " \n",
       "        [[[0.        , 0.        , 0.        ],\n",
       "          [0.        , 0.        , 0.        ],\n",
       "          [0.        , 0.        , 0.        ],\n",
       "          ...,\n",
       "          [0.        , 0.00588235, 0.00490196],\n",
       "          [0.        , 0.00294118, 0.01078431],\n",
       "          [0.        , 0.00392157, 0.        ]],\n",
       " \n",
       "         [[0.        , 0.        , 0.        ],\n",
       "          [0.        , 0.        , 0.        ],\n",
       "          [0.        , 0.        , 0.        ],\n",
       "          ...,\n",
       "          [0.        , 0.00220588, 0.00196078],\n",
       "          [0.        , 0.        , 0.01372549],\n",
       "          [0.        , 0.00294118, 0.        ]],\n",
       " \n",
       "         [[0.        , 0.        , 0.        ],\n",
       "          [0.        , 0.        , 0.        ],\n",
       "          [0.        , 0.        , 0.        ],\n",
       "          ...,\n",
       "          [0.00808824, 0.01029412, 0.        ],\n",
       "          [0.00808824, 0.00808824, 0.00220588],\n",
       "          [0.00588235, 0.00906863, 0.        ]],\n",
       " \n",
       "         ...,\n",
       " \n",
       "         [[0.76029414, 0.40980393, 0.46642157],\n",
       "          [0.71004903, 0.3718137 , 0.40710783],\n",
       "          [0.6254902 , 0.3009804 , 0.31960785],\n",
       "          ...,\n",
       "          [0.76053923, 0.6122549 , 0.5497549 ],\n",
       "          [0.6759804 , 0.5026961 , 0.50661767],\n",
       "          [0.6254902 , 0.46029413, 0.47279412]],\n",
       " \n",
       "         [[0.7801471 , 0.4107843 , 0.475     ],\n",
       "          [0.72156864, 0.3627451 , 0.4107843 ],\n",
       "          [0.5884804 , 0.24068627, 0.26691177],\n",
       "          ...,\n",
       "          [0.74019605, 0.57867646, 0.55563724],\n",
       "          [0.6813725 , 0.5004902 , 0.54509807],\n",
       "          [0.595098  , 0.43112746, 0.48210785]],\n",
       " \n",
       "         [[0.8213235 , 0.4375    , 0.5137255 ],\n",
       "          [0.7115196 , 0.34215686, 0.39485294],\n",
       "          [0.5512255 , 0.19313726, 0.23039216],\n",
       "          ...,\n",
       "          [0.69215685, 0.51666665, 0.52205884],\n",
       "          [0.6259804 , 0.44019607, 0.51617646],\n",
       "          [0.64436275, 0.48259804, 0.5620098 ]]],\n",
       " \n",
       " \n",
       "        [[[0.        , 0.        , 0.        ],\n",
       "          [0.        , 0.        , 0.        ],\n",
       "          [0.        , 0.        , 0.        ],\n",
       "          ...,\n",
       "          [0.65661764, 0.71544117, 0.6958333 ],\n",
       "          [0.6661765 , 0.7242647 , 0.7127451 ],\n",
       "          [0.6629902 , 0.71789217, 0.7252451 ]],\n",
       " \n",
       "         [[0.        , 0.        , 0.        ],\n",
       "          [0.        , 0.        , 0.        ],\n",
       "          [0.        , 0.        , 0.        ],\n",
       "          ...,\n",
       "          [0.7085784 , 0.7585784 , 0.7223039 ],\n",
       "          [0.53063726, 0.57990193, 0.5495098 ],\n",
       "          [0.5384804 , 0.58431375, 0.58112746]],\n",
       " \n",
       "         [[0.        , 0.        , 0.        ],\n",
       "          [0.        , 0.        , 0.        ],\n",
       "          [0.        , 0.        , 0.        ],\n",
       "          ...,\n",
       "          [0.68333334, 0.72745097, 0.6745098 ],\n",
       "          [0.46740195, 0.5115196 , 0.45857844],\n",
       "          [0.47745097, 0.5176471 , 0.47941175]],\n",
       " \n",
       "         ...,\n",
       " \n",
       "         [[0.        , 0.        , 0.        ],\n",
       "          [0.        , 0.        , 0.        ],\n",
       "          [0.        , 0.        , 0.        ],\n",
       "          ...,\n",
       "          [0.03431373, 0.05392157, 0.03039216],\n",
       "          [0.03431373, 0.05392157, 0.03039216],\n",
       "          [0.03627451, 0.05588235, 0.03235294]],\n",
       " \n",
       "         [[0.        , 0.        , 0.        ],\n",
       "          [0.        , 0.        , 0.        ],\n",
       "          [0.        , 0.        , 0.        ],\n",
       "          ...,\n",
       "          [0.03651961, 0.05612745, 0.03259804],\n",
       "          [0.03137255, 0.05098039, 0.02745098],\n",
       "          [0.03921569, 0.05882353, 0.03529412]],\n",
       " \n",
       "         [[0.        , 0.        , 0.        ],\n",
       "          [0.        , 0.        , 0.        ],\n",
       "          [0.        , 0.        , 0.        ],\n",
       "          ...,\n",
       "          [0.03431373, 0.05392157, 0.03039216],\n",
       "          [0.03235294, 0.05196078, 0.02843137],\n",
       "          [0.03529412, 0.05490196, 0.03137255]]]], dtype=float32),\n",
       " array([1., 0., 0., 1., 0., 0., 0., 0., 1., 1., 0., 1., 1., 1., 0., 0.],\n",
       "       dtype=float32))"
      ]
     },
     "execution_count": 33,
     "metadata": {},
     "output_type": "execute_result"
    }
   ],
   "source": [
    "train_sample"
   ]
  },
  {
   "cell_type": "code",
   "execution_count": 34,
   "id": "3b381643",
   "metadata": {},
   "outputs": [],
   "source": [
    "#Testing Partition\n",
    "\n",
    "test_data = data.skip(round(len(data)*.7))\n",
    "test_data = test_data.take(round(len(data)*.3))\n",
    "test_data = test_data.batch(16)\n",
    "test_data = test_data.prefetch(8)"
   ]
  },
  {
   "cell_type": "code",
   "execution_count": 35,
   "id": "5a90cb54",
   "metadata": {},
   "outputs": [],
   "source": [
    "def make_embedding():\n",
    "    inp = Input(shape=(100,100,3),name = 'input_name')\n",
    "    #First block\n",
    "    c1 = Conv2D(64,(10,10), activation='relu')(inp)\n",
    "    m1 = MaxPooling2D(64,(2,2), padding='same')(c1)\n",
    "    #Second block\n",
    "    c2 = Conv2D(128,(7,7), activation='relu')(m1)\n",
    "    m2 = MaxPooling2D(64,(2,2), padding='same')(c2)\n",
    "    #Third block\n",
    "    c3 = Conv2D(128,(4,4), activation='relu')(m2)\n",
    "    m3 = MaxPooling2D(64,(2,2), padding='same')(c3)\n",
    "    #Fourth block\n",
    "    c4 = Conv2D(256,(4,4), activation='relu')(m3)\n",
    "    f1 = Flatten()(c4)\n",
    "    d1 = Dense(4096, activation='sigmoid')(f1)\n",
    "    \n",
    "    return Model(inputs=[inp],outputs=d1,name='embedding')"
   ]
  },
  {
   "cell_type": "code",
   "execution_count": 36,
   "id": "ef5d24e9",
   "metadata": {},
   "outputs": [],
   "source": [
    "# inp = Input(shape=(100,100,3),name = 'input_name')\n",
    "# c1 = Conv2D(64,(10,10), activation='relu')(inp)\n",
    "# m1 = MaxPooling2D(64,(2,2), padding='same')(c1)\n",
    "\n",
    "# inp = Input(shape=(100,100,3),name = 'input_name')\n",
    "# #First block\n",
    "# c1 = Conv2D(64,(10,10), activation='relu')(inp)\n",
    "# m1 = MaxPooling2D(64,(2,2), padding='same')(c1)\n",
    "# #Second block\n",
    "# c2 = Conv2D(128,(7,7), activation='relu')(m1)\n",
    "# m2 = MaxPooling2D(64,(2,2), padding='same')(c2)\n",
    "# #Third block\n",
    "# c3 = Conv2D(128,(4,4), activation='relu')(m2)\n",
    "# m3 = MaxPooling2D(64,(2,2), padding='same')(c3)\n",
    "# #Fourth block\n",
    "# c4 = Conv2D(256,(4,4), activation='relu')(m3)\n",
    "# f1 = Flatten()(c4)\n",
    "# d1 = Dense(4096, activation='sigmoid')(f1)"
   ]
  },
  {
   "cell_type": "code",
   "execution_count": 37,
   "id": "62677559",
   "metadata": {},
   "outputs": [],
   "source": [
    "# c4"
   ]
  },
  {
   "cell_type": "code",
   "execution_count": 38,
   "id": "d84bf4f4",
   "metadata": {},
   "outputs": [],
   "source": [
    "# 6*6*256"
   ]
  },
  {
   "cell_type": "code",
   "execution_count": 39,
   "id": "9540f22b",
   "metadata": {},
   "outputs": [],
   "source": [
    "# f1"
   ]
  },
  {
   "cell_type": "code",
   "execution_count": 40,
   "id": "2003eb2a",
   "metadata": {},
   "outputs": [],
   "source": [
    "# d1"
   ]
  },
  {
   "cell_type": "code",
   "execution_count": 41,
   "id": "ed174996",
   "metadata": {},
   "outputs": [],
   "source": [
    "#Our model\n",
    "embedding = make_embedding()"
   ]
  },
  {
   "cell_type": "code",
   "execution_count": 42,
   "id": "213f220c",
   "metadata": {},
   "outputs": [
    {
     "name": "stdout",
     "output_type": "stream",
     "text": [
      "Model: \"embedding\"\n",
      "_________________________________________________________________\n",
      " Layer (type)                Output Shape              Param #   \n",
      "=================================================================\n",
      " input_name (InputLayer)     [(None, 100, 100, 3)]     0         \n",
      "                                                                 \n",
      " conv2d (Conv2D)             (None, 91, 91, 64)        19264     \n",
      "                                                                 \n",
      " max_pooling2d (MaxPooling2  (None, 46, 46, 64)        0         \n",
      " D)                                                              \n",
      "                                                                 \n",
      " conv2d_1 (Conv2D)           (None, 40, 40, 128)       401536    \n",
      "                                                                 \n",
      " max_pooling2d_1 (MaxPoolin  (None, 20, 20, 128)       0         \n",
      " g2D)                                                            \n",
      "                                                                 \n",
      " conv2d_2 (Conv2D)           (None, 17, 17, 128)       262272    \n",
      "                                                                 \n",
      " max_pooling2d_2 (MaxPoolin  (None, 9, 9, 128)         0         \n",
      " g2D)                                                            \n",
      "                                                                 \n",
      " conv2d_3 (Conv2D)           (None, 6, 6, 256)         524544    \n",
      "                                                                 \n",
      " flatten (Flatten)           (None, 9216)              0         \n",
      "                                                                 \n",
      " dense (Dense)               (None, 4096)              37752832  \n",
      "                                                                 \n",
      "=================================================================\n",
      "Total params: 38960448 (148.62 MB)\n",
      "Trainable params: 38960448 (148.62 MB)\n",
      "Non-trainable params: 0 (0.00 Byte)\n",
      "_________________________________________________________________\n"
     ]
    }
   ],
   "source": [
    "embedding.summary()"
   ]
  },
  {
   "cell_type": "code",
   "execution_count": 43,
   "id": "35338a04",
   "metadata": {},
   "outputs": [],
   "source": [
    "#Siamese Distance Layer\n",
    "class L1Dist(Layer):\n",
    "    def __init__(self, **kwargs):\n",
    "        super().__init__()\n",
    "    \n",
    "    def call(self, input_embedding, validation_embedding):\n",
    "        return tf.math.abs(input_embedding - validation_embedding)"
   ]
  },
  {
   "cell_type": "code",
   "execution_count": 44,
   "id": "4c77ffb1",
   "metadata": {},
   "outputs": [
    {
     "data": {
      "text/plain": [
       "<__main__.L1Dist at 0x2c37fa7e490>"
      ]
     },
     "execution_count": 44,
     "metadata": {},
     "output_type": "execute_result"
    }
   ],
   "source": [
    "l1 = L1Dist()\n",
    "l1"
   ]
  },
  {
   "cell_type": "code",
   "execution_count": 45,
   "id": "d95b02c2",
   "metadata": {},
   "outputs": [],
   "source": [
    "def make_siamese_model():\n",
    "    \n",
    "    #anchor image input\n",
    "    input_image = Input(name='input_img', shape=(100,100,3))\n",
    "    #validation image input\n",
    "    validation_image = Input(name='validation_img', shape=(100,100,3))\n",
    "    \n",
    "    #combining siamese components\n",
    "    siamese_layer = L1Dist()\n",
    "    siamese_layer._name = 'distance'\n",
    "    distances = siamese_layer(embedding(input_image), embedding(validation_image))\n",
    "    \n",
    "    #classification layer\n",
    "    classifier = Dense(1, activation='sigmoid')(distances)\n",
    "    \n",
    "    return Model(inputs = [input_image, validation_image], outputs=classifier, name='SiameseNetwork')"
   ]
  },
  {
   "cell_type": "code",
   "execution_count": 46,
   "id": "3e8be9a7",
   "metadata": {},
   "outputs": [],
   "source": [
    "siamese_model = make_siamese_model()"
   ]
  },
  {
   "cell_type": "code",
   "execution_count": 47,
   "id": "675f2058",
   "metadata": {
    "scrolled": true
   },
   "outputs": [
    {
     "name": "stdout",
     "output_type": "stream",
     "text": [
      "Model: \"SiameseNetwork\"\n",
      "__________________________________________________________________________________________________\n",
      " Layer (type)                Output Shape                 Param #   Connected to                  \n",
      "==================================================================================================\n",
      " input_img (InputLayer)      [(None, 100, 100, 3)]        0         []                            \n",
      "                                                                                                  \n",
      " validation_img (InputLayer  [(None, 100, 100, 3)]        0         []                            \n",
      " )                                                                                                \n",
      "                                                                                                  \n",
      " embedding (Functional)      (None, 4096)                 3896044   ['input_img[0][0]',           \n",
      "                                                          8          'validation_img[0][0]']      \n",
      "                                                                                                  \n",
      " distance (L1Dist)           (None, 4096)                 0         ['embedding[0][0]',           \n",
      "                                                                     'embedding[1][0]']           \n",
      "                                                                                                  \n",
      " dense_1 (Dense)             (None, 1)                    4097      ['distance[0][0]']            \n",
      "                                                                                                  \n",
      "==================================================================================================\n",
      "Total params: 38964545 (148.64 MB)\n",
      "Trainable params: 38964545 (148.64 MB)\n",
      "Non-trainable params: 0 (0.00 Byte)\n",
      "__________________________________________________________________________________________________\n"
     ]
    }
   ],
   "source": [
    "siamese_model.summary()"
   ]
  },
  {
   "cell_type": "code",
   "execution_count": 48,
   "id": "26d5bd8f",
   "metadata": {},
   "outputs": [],
   "source": [
    "#Settingup loss function\n",
    "\n",
    "binary_cross_loss = tf.losses.BinaryCrossentropy()"
   ]
  },
  {
   "cell_type": "code",
   "execution_count": 49,
   "id": "6708037f",
   "metadata": {},
   "outputs": [],
   "source": [
    "opt = tf.keras.optimizers.Adam(1e-4) #0.0001"
   ]
  },
  {
   "cell_type": "code",
   "execution_count": 50,
   "id": "dd330b1e",
   "metadata": {},
   "outputs": [],
   "source": [
    "# siamese_model.compile(optimizer='adam', loss='BinaryCrossentropy', metrics=['accuracy'])"
   ]
  },
  {
   "cell_type": "code",
   "execution_count": 51,
   "id": "cc9e987b",
   "metadata": {},
   "outputs": [],
   "source": [
    "checkpoint_dir = './training_checkpoints'\n",
    "checkpoint_prefix = os.path.join(checkpoint_dir, 'ckpt')\n",
    "checkpoint = tf.train.Checkpoint(opt = opt, siamese_model = siamese_model)"
   ]
  },
  {
   "cell_type": "code",
   "execution_count": 52,
   "id": "0f25a561",
   "metadata": {},
   "outputs": [],
   "source": [
    "# model = tf.keras.models.load_model('siamesemodel.h5', \n",
    "#                                    custom_objects={'L1Dist':L1Dist, 'BinaryCrossentropy':tf.losses.BinaryCrossentropy})"
   ]
  },
  {
   "cell_type": "code",
   "execution_count": 53,
   "id": "94f3672b",
   "metadata": {},
   "outputs": [],
   "source": [
    "# model.compile(optimizer='adam', loss='binary_crossentropy', metrics=['accuracy'])"
   ]
  },
  {
   "cell_type": "code",
   "execution_count": 54,
   "id": "65352db8",
   "metadata": {},
   "outputs": [],
   "source": [
    "#Training Step Function"
   ]
  },
  {
   "cell_type": "code",
   "execution_count": 55,
   "id": "eb0cd61a",
   "metadata": {},
   "outputs": [],
   "source": [
    "@tf.function\n",
    "\n",
    "def train_step(batch):\n",
    "    with tf.GradientTape() as tape:\n",
    "        X = batch[:2]\n",
    "        y = batch[2]\n",
    "        \n",
    "        #Forward Pass\n",
    "        yhat = siamese_model(X, training=True)\n",
    "        loss = binary_cross_loss(y, yhat)\n",
    "        \n",
    "    #calculating gradients\n",
    "    grad = tape.gradient(loss, siamese_model.trainable_variables)\n",
    "    #Calculate updated weights and apply to model\n",
    "    opt.apply_gradients(zip(grad, siamese_model.trainable_variables))\n",
    "    \n",
    "    return loss"
   ]
  },
  {
   "cell_type": "code",
   "execution_count": 56,
   "id": "4b0f5282",
   "metadata": {},
   "outputs": [],
   "source": [
    "#Training Loop\n",
    "\n",
    "def train(data, EPOCHS):\n",
    "    for epoch in range(1, EPOCHS+1):\n",
    "        print('\\n Epoch {}/{}'.format(epoch, EPOCHS))\n",
    "        progbar = tf.keras.utils.Progbar(len(data))\n",
    "        \n",
    "        for idx, batch in enumerate(data):\n",
    "            train_step(batch)\n",
    "            progbar.update(idx+1)\n",
    "            \n",
    "        #Save epoch every 10 epochs\n",
    "        if epoch % 10 == 0:\n",
    "            checkpoint.save(file_prefix=checkpoint_prefix)"
   ]
  },
  {
   "cell_type": "code",
   "execution_count": 216,
   "id": "299158d5",
   "metadata": {},
   "outputs": [],
   "source": [
    "#Training the model\n",
    "\n",
    "EPOCHS = 1"
   ]
  },
  {
   "cell_type": "code",
   "execution_count": 160,
   "id": "ad8c5c41",
   "metadata": {},
   "outputs": [
    {
     "name": "stdout",
     "output_type": "stream",
     "text": [
      "\n",
      " Epoch 1/1\n",
      " 9/35 [======>.......................] - ETA: 9:11"
     ]
    },
    {
     "ename": "KeyboardInterrupt",
     "evalue": "",
     "output_type": "error",
     "traceback": [
      "\u001b[1;31m---------------------------------------------------------------------------\u001b[0m",
      "\u001b[1;31mKeyboardInterrupt\u001b[0m                         Traceback (most recent call last)",
      "Cell \u001b[1;32mIn[160], line 1\u001b[0m\n\u001b[1;32m----> 1\u001b[0m train(train_data, EPOCHS)\n",
      "Cell \u001b[1;32mIn[157], line 9\u001b[0m, in \u001b[0;36mtrain\u001b[1;34m(data, EPOCHS)\u001b[0m\n\u001b[0;32m      6\u001b[0m progbar \u001b[38;5;241m=\u001b[39m tf\u001b[38;5;241m.\u001b[39mkeras\u001b[38;5;241m.\u001b[39mutils\u001b[38;5;241m.\u001b[39mProgbar(\u001b[38;5;28mlen\u001b[39m(data))\n\u001b[0;32m      8\u001b[0m \u001b[38;5;28;01mfor\u001b[39;00m idx, batch \u001b[38;5;129;01min\u001b[39;00m \u001b[38;5;28menumerate\u001b[39m(data):\n\u001b[1;32m----> 9\u001b[0m     train_step(batch)\n\u001b[0;32m     10\u001b[0m     progbar\u001b[38;5;241m.\u001b[39mupdate(idx\u001b[38;5;241m+\u001b[39m\u001b[38;5;241m1\u001b[39m)\n\u001b[0;32m     12\u001b[0m \u001b[38;5;66;03m#Save epoch every 10 epochs\u001b[39;00m\n",
      "File \u001b[1;32m~\\anaconda3\\Lib\\site-packages\\tensorflow\\python\\util\\traceback_utils.py:150\u001b[0m, in \u001b[0;36mfilter_traceback.<locals>.error_handler\u001b[1;34m(*args, **kwargs)\u001b[0m\n\u001b[0;32m    148\u001b[0m filtered_tb \u001b[38;5;241m=\u001b[39m \u001b[38;5;28;01mNone\u001b[39;00m\n\u001b[0;32m    149\u001b[0m \u001b[38;5;28;01mtry\u001b[39;00m:\n\u001b[1;32m--> 150\u001b[0m   \u001b[38;5;28;01mreturn\u001b[39;00m fn(\u001b[38;5;241m*\u001b[39margs, \u001b[38;5;241m*\u001b[39m\u001b[38;5;241m*\u001b[39mkwargs)\n\u001b[0;32m    151\u001b[0m \u001b[38;5;28;01mexcept\u001b[39;00m \u001b[38;5;167;01mException\u001b[39;00m \u001b[38;5;28;01mas\u001b[39;00m e:\n\u001b[0;32m    152\u001b[0m   filtered_tb \u001b[38;5;241m=\u001b[39m _process_traceback_frames(e\u001b[38;5;241m.\u001b[39m__traceback__)\n",
      "File \u001b[1;32m~\\anaconda3\\Lib\\site-packages\\tensorflow\\python\\eager\\polymorphic_function\\polymorphic_function.py:831\u001b[0m, in \u001b[0;36mFunction.__call__\u001b[1;34m(self, *args, **kwds)\u001b[0m\n\u001b[0;32m    828\u001b[0m compiler \u001b[38;5;241m=\u001b[39m \u001b[38;5;124m\"\u001b[39m\u001b[38;5;124mxla\u001b[39m\u001b[38;5;124m\"\u001b[39m \u001b[38;5;28;01mif\u001b[39;00m \u001b[38;5;28mself\u001b[39m\u001b[38;5;241m.\u001b[39m_jit_compile \u001b[38;5;28;01melse\u001b[39;00m \u001b[38;5;124m\"\u001b[39m\u001b[38;5;124mnonXla\u001b[39m\u001b[38;5;124m\"\u001b[39m\n\u001b[0;32m    830\u001b[0m \u001b[38;5;28;01mwith\u001b[39;00m OptionalXlaContext(\u001b[38;5;28mself\u001b[39m\u001b[38;5;241m.\u001b[39m_jit_compile):\n\u001b[1;32m--> 831\u001b[0m   result \u001b[38;5;241m=\u001b[39m \u001b[38;5;28mself\u001b[39m\u001b[38;5;241m.\u001b[39m_call(\u001b[38;5;241m*\u001b[39margs, \u001b[38;5;241m*\u001b[39m\u001b[38;5;241m*\u001b[39mkwds)\n\u001b[0;32m    833\u001b[0m new_tracing_count \u001b[38;5;241m=\u001b[39m \u001b[38;5;28mself\u001b[39m\u001b[38;5;241m.\u001b[39mexperimental_get_tracing_count()\n\u001b[0;32m    834\u001b[0m without_tracing \u001b[38;5;241m=\u001b[39m (tracing_count \u001b[38;5;241m==\u001b[39m new_tracing_count)\n",
      "File \u001b[1;32m~\\anaconda3\\Lib\\site-packages\\tensorflow\\python\\eager\\polymorphic_function\\polymorphic_function.py:867\u001b[0m, in \u001b[0;36mFunction._call\u001b[1;34m(self, *args, **kwds)\u001b[0m\n\u001b[0;32m    864\u001b[0m   \u001b[38;5;28mself\u001b[39m\u001b[38;5;241m.\u001b[39m_lock\u001b[38;5;241m.\u001b[39mrelease()\n\u001b[0;32m    865\u001b[0m   \u001b[38;5;66;03m# In this case we have created variables on the first call, so we run the\u001b[39;00m\n\u001b[0;32m    866\u001b[0m   \u001b[38;5;66;03m# defunned version which is guaranteed to never create variables.\u001b[39;00m\n\u001b[1;32m--> 867\u001b[0m   \u001b[38;5;28;01mreturn\u001b[39;00m tracing_compilation\u001b[38;5;241m.\u001b[39mcall_function(\n\u001b[0;32m    868\u001b[0m       args, kwds, \u001b[38;5;28mself\u001b[39m\u001b[38;5;241m.\u001b[39m_no_variable_creation_config\n\u001b[0;32m    869\u001b[0m   )\n\u001b[0;32m    870\u001b[0m \u001b[38;5;28;01melif\u001b[39;00m \u001b[38;5;28mself\u001b[39m\u001b[38;5;241m.\u001b[39m_variable_creation_config \u001b[38;5;129;01mis\u001b[39;00m \u001b[38;5;129;01mnot\u001b[39;00m \u001b[38;5;28;01mNone\u001b[39;00m:\n\u001b[0;32m    871\u001b[0m   \u001b[38;5;66;03m# Release the lock early so that multiple threads can perform the call\u001b[39;00m\n\u001b[0;32m    872\u001b[0m   \u001b[38;5;66;03m# in parallel.\u001b[39;00m\n\u001b[0;32m    873\u001b[0m   \u001b[38;5;28mself\u001b[39m\u001b[38;5;241m.\u001b[39m_lock\u001b[38;5;241m.\u001b[39mrelease()\n",
      "File \u001b[1;32m~\\anaconda3\\Lib\\site-packages\\tensorflow\\python\\eager\\polymorphic_function\\tracing_compilation.py:139\u001b[0m, in \u001b[0;36mcall_function\u001b[1;34m(args, kwargs, tracing_options)\u001b[0m\n\u001b[0;32m    137\u001b[0m bound_args \u001b[38;5;241m=\u001b[39m function\u001b[38;5;241m.\u001b[39mfunction_type\u001b[38;5;241m.\u001b[39mbind(\u001b[38;5;241m*\u001b[39margs, \u001b[38;5;241m*\u001b[39m\u001b[38;5;241m*\u001b[39mkwargs)\n\u001b[0;32m    138\u001b[0m flat_inputs \u001b[38;5;241m=\u001b[39m function\u001b[38;5;241m.\u001b[39mfunction_type\u001b[38;5;241m.\u001b[39munpack_inputs(bound_args)\n\u001b[1;32m--> 139\u001b[0m \u001b[38;5;28;01mreturn\u001b[39;00m function\u001b[38;5;241m.\u001b[39m_call_flat(  \u001b[38;5;66;03m# pylint: disable=protected-access\u001b[39;00m\n\u001b[0;32m    140\u001b[0m     flat_inputs, captured_inputs\u001b[38;5;241m=\u001b[39mfunction\u001b[38;5;241m.\u001b[39mcaptured_inputs\n\u001b[0;32m    141\u001b[0m )\n",
      "File \u001b[1;32m~\\anaconda3\\Lib\\site-packages\\tensorflow\\python\\eager\\polymorphic_function\\concrete_function.py:1264\u001b[0m, in \u001b[0;36mConcreteFunction._call_flat\u001b[1;34m(self, tensor_inputs, captured_inputs)\u001b[0m\n\u001b[0;32m   1260\u001b[0m possible_gradient_type \u001b[38;5;241m=\u001b[39m gradients_util\u001b[38;5;241m.\u001b[39mPossibleTapeGradientTypes(args)\n\u001b[0;32m   1261\u001b[0m \u001b[38;5;28;01mif\u001b[39;00m (possible_gradient_type \u001b[38;5;241m==\u001b[39m gradients_util\u001b[38;5;241m.\u001b[39mPOSSIBLE_GRADIENT_TYPES_NONE\n\u001b[0;32m   1262\u001b[0m     \u001b[38;5;129;01mand\u001b[39;00m executing_eagerly):\n\u001b[0;32m   1263\u001b[0m   \u001b[38;5;66;03m# No tape is watching; skip to running the function.\u001b[39;00m\n\u001b[1;32m-> 1264\u001b[0m   \u001b[38;5;28;01mreturn\u001b[39;00m \u001b[38;5;28mself\u001b[39m\u001b[38;5;241m.\u001b[39m_inference_function\u001b[38;5;241m.\u001b[39mflat_call(args)\n\u001b[0;32m   1265\u001b[0m forward_backward \u001b[38;5;241m=\u001b[39m \u001b[38;5;28mself\u001b[39m\u001b[38;5;241m.\u001b[39m_select_forward_and_backward_functions(\n\u001b[0;32m   1266\u001b[0m     args,\n\u001b[0;32m   1267\u001b[0m     possible_gradient_type,\n\u001b[0;32m   1268\u001b[0m     executing_eagerly)\n\u001b[0;32m   1269\u001b[0m forward_function, args_with_tangents \u001b[38;5;241m=\u001b[39m forward_backward\u001b[38;5;241m.\u001b[39mforward()\n",
      "File \u001b[1;32m~\\anaconda3\\Lib\\site-packages\\tensorflow\\python\\eager\\polymorphic_function\\atomic_function.py:217\u001b[0m, in \u001b[0;36mAtomicFunction.flat_call\u001b[1;34m(self, args)\u001b[0m\n\u001b[0;32m    215\u001b[0m \u001b[38;5;28;01mdef\u001b[39;00m \u001b[38;5;21mflat_call\u001b[39m(\u001b[38;5;28mself\u001b[39m, args: Sequence[core\u001b[38;5;241m.\u001b[39mTensor]) \u001b[38;5;241m-\u001b[39m\u001b[38;5;241m>\u001b[39m Any:\n\u001b[0;32m    216\u001b[0m \u001b[38;5;250m  \u001b[39m\u001b[38;5;124;03m\"\"\"Calls with tensor inputs and returns the structured output.\"\"\"\u001b[39;00m\n\u001b[1;32m--> 217\u001b[0m   flat_outputs \u001b[38;5;241m=\u001b[39m \u001b[38;5;28mself\u001b[39m(\u001b[38;5;241m*\u001b[39margs)\n\u001b[0;32m    218\u001b[0m   \u001b[38;5;28;01mreturn\u001b[39;00m \u001b[38;5;28mself\u001b[39m\u001b[38;5;241m.\u001b[39mfunction_type\u001b[38;5;241m.\u001b[39mpack_output(flat_outputs)\n",
      "File \u001b[1;32m~\\anaconda3\\Lib\\site-packages\\tensorflow\\python\\eager\\polymorphic_function\\atomic_function.py:252\u001b[0m, in \u001b[0;36mAtomicFunction.__call__\u001b[1;34m(self, *args)\u001b[0m\n\u001b[0;32m    250\u001b[0m \u001b[38;5;28;01mwith\u001b[39;00m record\u001b[38;5;241m.\u001b[39mstop_recording():\n\u001b[0;32m    251\u001b[0m   \u001b[38;5;28;01mif\u001b[39;00m \u001b[38;5;28mself\u001b[39m\u001b[38;5;241m.\u001b[39m_bound_context\u001b[38;5;241m.\u001b[39mexecuting_eagerly():\n\u001b[1;32m--> 252\u001b[0m     outputs \u001b[38;5;241m=\u001b[39m \u001b[38;5;28mself\u001b[39m\u001b[38;5;241m.\u001b[39m_bound_context\u001b[38;5;241m.\u001b[39mcall_function(\n\u001b[0;32m    253\u001b[0m         \u001b[38;5;28mself\u001b[39m\u001b[38;5;241m.\u001b[39mname,\n\u001b[0;32m    254\u001b[0m         \u001b[38;5;28mlist\u001b[39m(args),\n\u001b[0;32m    255\u001b[0m         \u001b[38;5;28mlen\u001b[39m(\u001b[38;5;28mself\u001b[39m\u001b[38;5;241m.\u001b[39mfunction_type\u001b[38;5;241m.\u001b[39mflat_outputs),\n\u001b[0;32m    256\u001b[0m     )\n\u001b[0;32m    257\u001b[0m   \u001b[38;5;28;01melse\u001b[39;00m:\n\u001b[0;32m    258\u001b[0m     outputs \u001b[38;5;241m=\u001b[39m make_call_op_in_graph(\n\u001b[0;32m    259\u001b[0m         \u001b[38;5;28mself\u001b[39m,\n\u001b[0;32m    260\u001b[0m         \u001b[38;5;28mlist\u001b[39m(args),\n\u001b[0;32m    261\u001b[0m         \u001b[38;5;28mself\u001b[39m\u001b[38;5;241m.\u001b[39m_bound_context\u001b[38;5;241m.\u001b[39mfunction_call_options\u001b[38;5;241m.\u001b[39mas_attrs(),\n\u001b[0;32m    262\u001b[0m     )\n",
      "File \u001b[1;32m~\\anaconda3\\Lib\\site-packages\\tensorflow\\python\\eager\\context.py:1479\u001b[0m, in \u001b[0;36mContext.call_function\u001b[1;34m(self, name, tensor_inputs, num_outputs)\u001b[0m\n\u001b[0;32m   1477\u001b[0m cancellation_context \u001b[38;5;241m=\u001b[39m cancellation\u001b[38;5;241m.\u001b[39mcontext()\n\u001b[0;32m   1478\u001b[0m \u001b[38;5;28;01mif\u001b[39;00m cancellation_context \u001b[38;5;129;01mis\u001b[39;00m \u001b[38;5;28;01mNone\u001b[39;00m:\n\u001b[1;32m-> 1479\u001b[0m   outputs \u001b[38;5;241m=\u001b[39m execute\u001b[38;5;241m.\u001b[39mexecute(\n\u001b[0;32m   1480\u001b[0m       name\u001b[38;5;241m.\u001b[39mdecode(\u001b[38;5;124m\"\u001b[39m\u001b[38;5;124mutf-8\u001b[39m\u001b[38;5;124m\"\u001b[39m),\n\u001b[0;32m   1481\u001b[0m       num_outputs\u001b[38;5;241m=\u001b[39mnum_outputs,\n\u001b[0;32m   1482\u001b[0m       inputs\u001b[38;5;241m=\u001b[39mtensor_inputs,\n\u001b[0;32m   1483\u001b[0m       attrs\u001b[38;5;241m=\u001b[39mattrs,\n\u001b[0;32m   1484\u001b[0m       ctx\u001b[38;5;241m=\u001b[39m\u001b[38;5;28mself\u001b[39m,\n\u001b[0;32m   1485\u001b[0m   )\n\u001b[0;32m   1486\u001b[0m \u001b[38;5;28;01melse\u001b[39;00m:\n\u001b[0;32m   1487\u001b[0m   outputs \u001b[38;5;241m=\u001b[39m execute\u001b[38;5;241m.\u001b[39mexecute_with_cancellation(\n\u001b[0;32m   1488\u001b[0m       name\u001b[38;5;241m.\u001b[39mdecode(\u001b[38;5;124m\"\u001b[39m\u001b[38;5;124mutf-8\u001b[39m\u001b[38;5;124m\"\u001b[39m),\n\u001b[0;32m   1489\u001b[0m       num_outputs\u001b[38;5;241m=\u001b[39mnum_outputs,\n\u001b[1;32m   (...)\u001b[0m\n\u001b[0;32m   1493\u001b[0m       cancellation_manager\u001b[38;5;241m=\u001b[39mcancellation_context,\n\u001b[0;32m   1494\u001b[0m   )\n",
      "File \u001b[1;32m~\\anaconda3\\Lib\\site-packages\\tensorflow\\python\\eager\\execute.py:60\u001b[0m, in \u001b[0;36mquick_execute\u001b[1;34m(op_name, num_outputs, inputs, attrs, ctx, name)\u001b[0m\n\u001b[0;32m     53\u001b[0m   \u001b[38;5;66;03m# Convert any objects of type core_types.Tensor to Tensor.\u001b[39;00m\n\u001b[0;32m     54\u001b[0m   inputs \u001b[38;5;241m=\u001b[39m [\n\u001b[0;32m     55\u001b[0m       tensor_conversion_registry\u001b[38;5;241m.\u001b[39mconvert(t)\n\u001b[0;32m     56\u001b[0m       \u001b[38;5;28;01mif\u001b[39;00m \u001b[38;5;28misinstance\u001b[39m(t, core_types\u001b[38;5;241m.\u001b[39mTensor)\n\u001b[0;32m     57\u001b[0m       \u001b[38;5;28;01melse\u001b[39;00m t\n\u001b[0;32m     58\u001b[0m       \u001b[38;5;28;01mfor\u001b[39;00m t \u001b[38;5;129;01min\u001b[39;00m inputs\n\u001b[0;32m     59\u001b[0m   ]\n\u001b[1;32m---> 60\u001b[0m   tensors \u001b[38;5;241m=\u001b[39m pywrap_tfe\u001b[38;5;241m.\u001b[39mTFE_Py_Execute(ctx\u001b[38;5;241m.\u001b[39m_handle, device_name, op_name,\n\u001b[0;32m     61\u001b[0m                                       inputs, attrs, num_outputs)\n\u001b[0;32m     62\u001b[0m \u001b[38;5;28;01mexcept\u001b[39;00m core\u001b[38;5;241m.\u001b[39m_NotOkStatusException \u001b[38;5;28;01mas\u001b[39;00m e:\n\u001b[0;32m     63\u001b[0m   \u001b[38;5;28;01mif\u001b[39;00m name \u001b[38;5;129;01mis\u001b[39;00m \u001b[38;5;129;01mnot\u001b[39;00m \u001b[38;5;28;01mNone\u001b[39;00m:\n",
      "\u001b[1;31mKeyboardInterrupt\u001b[0m: "
     ]
    }
   ],
   "source": [
    "train(train_data, EPOCHS)"
   ]
  },
  {
   "cell_type": "code",
   "execution_count": 57,
   "id": "2c56dce3",
   "metadata": {},
   "outputs": [],
   "source": [
    "from tensorflow.keras.metrics import Precision, Recall"
   ]
  },
  {
   "cell_type": "code",
   "execution_count": 58,
   "id": "2263a046",
   "metadata": {},
   "outputs": [],
   "source": [
    "test_input, test_val, y_true = test_data.as_numpy_iterator().next()"
   ]
  },
  {
   "cell_type": "code",
   "execution_count": 59,
   "id": "45d2386a",
   "metadata": {},
   "outputs": [
    {
     "name": "stdout",
     "output_type": "stream",
     "text": [
      "1/1 [==============================] - 2s 2s/step\n"
     ]
    },
    {
     "data": {
      "text/plain": [
       "array([[0.49974135],\n",
       "       [0.49968976],\n",
       "       [0.49990207],\n",
       "       [0.49959332],\n",
       "       [0.50050306],\n",
       "       [0.49833208],\n",
       "       [0.49974877],\n",
       "       [0.49836457],\n",
       "       [0.49988526],\n",
       "       [0.49934512],\n",
       "       [0.5013896 ],\n",
       "       [0.5002281 ],\n",
       "       [0.49978364],\n",
       "       [0.50002134],\n",
       "       [0.49977115],\n",
       "       [0.49972582]], dtype=float32)"
      ]
     },
     "execution_count": 59,
     "metadata": {},
     "output_type": "execute_result"
    }
   ],
   "source": [
    "y_hat = siamese_model.predict([test_input, test_val])\n",
    "y_hat"
   ]
  },
  {
   "cell_type": "code",
   "execution_count": 60,
   "id": "fc776441",
   "metadata": {},
   "outputs": [
    {
     "data": {
      "text/plain": [
       "[0, 0, 0, 0, 1, 0, 0, 0, 0, 0, 1, 1, 0, 1, 0, 0]"
      ]
     },
     "execution_count": 60,
     "metadata": {},
     "output_type": "execute_result"
    }
   ],
   "source": [
    "# Post processing the results \n",
    "[1 if prediction > 0.5 else 0 for prediction in y_hat ]"
   ]
  },
  {
   "cell_type": "code",
   "execution_count": 61,
   "id": "e1cc310b",
   "metadata": {},
   "outputs": [
    {
     "data": {
      "text/plain": [
       "array([1., 1., 0., 1., 0., 0., 1., 0., 0., 0., 0., 0., 1., 1., 0., 1.],\n",
       "      dtype=float32)"
      ]
     },
     "execution_count": 61,
     "metadata": {},
     "output_type": "execute_result"
    }
   ],
   "source": [
    "y_true"
   ]
  },
  {
   "cell_type": "code",
   "execution_count": 62,
   "id": "aac9e6f6",
   "metadata": {},
   "outputs": [
    {
     "data": {
      "text/plain": [
       "0.14285715"
      ]
     },
     "execution_count": 62,
     "metadata": {},
     "output_type": "execute_result"
    }
   ],
   "source": [
    "# Creating a metric object \n",
    "m = Recall()\n",
    "\n",
    "# Calculating the recall value \n",
    "m.update_state(y_true, y_hat)\n",
    "\n",
    "# Return Recall Result\n",
    "m.result().numpy()"
   ]
  },
  {
   "cell_type": "code",
   "execution_count": 63,
   "id": "acb92b70",
   "metadata": {},
   "outputs": [
    {
     "data": {
      "text/plain": [
       "0.25"
      ]
     },
     "execution_count": 63,
     "metadata": {},
     "output_type": "execute_result"
    }
   ],
   "source": [
    "# Creating a metric object \n",
    "m = Precision()\n",
    "\n",
    "# Calculating the recall value \n",
    "m.update_state(y_true, y_hat)\n",
    "\n",
    "# Return Recall Result\n",
    "m.result().numpy()"
   ]
  },
  {
   "cell_type": "code",
   "execution_count": 64,
   "id": "fbf13b07",
   "metadata": {},
   "outputs": [],
   "source": [
    "# # Set plot size \n",
    "# plt.figure(figsize=(10,8))\n",
    "\n",
    "# # Set first subplot\n",
    "# plt.subplot(1,2,1)\n",
    "# plt.imshow(test_input[0])\n",
    "\n",
    "# # Set second subplot\n",
    "# plt.subplot(1,2,2)\n",
    "# plt.imshow(test_val[0])\n",
    "\n",
    "# # Renders cleanly\n",
    "# plt.show()"
   ]
  },
  {
   "cell_type": "code",
   "execution_count": 65,
   "id": "0cc598da",
   "metadata": {},
   "outputs": [],
   "source": [
    "# Save weights\n",
    "\n",
    "# Commented for safety\n",
    "# siamese_model.save('siamesemodel.h5')"
   ]
  },
  {
   "cell_type": "code",
   "execution_count": 66,
   "id": "b0c49b1d",
   "metadata": {},
   "outputs": [
    {
     "data": {
      "text/plain": [
       "__main__.L1Dist"
      ]
     },
     "execution_count": 66,
     "metadata": {},
     "output_type": "execute_result"
    }
   ],
   "source": [
    "L1Dist"
   ]
  },
  {
   "cell_type": "code",
   "execution_count": 81,
   "id": "cac95c08",
   "metadata": {},
   "outputs": [
    {
     "name": "stdout",
     "output_type": "stream",
     "text": [
      "WARNING:tensorflow:No training configuration found in the save file, so the model was *not* compiled. Compile it manually.\n"
     ]
    }
   ],
   "source": [
    "model = tf.keras.models.load_model('siamesemodel.h5', \n",
    "                                   custom_objects={'L1Dist':L1Dist, 'BinaryCrossentropy':tf.losses.BinaryCrossentropy})"
   ]
  },
  {
   "cell_type": "code",
   "execution_count": 82,
   "id": "0a7b74d1",
   "metadata": {},
   "outputs": [],
   "source": [
    "# model.compile(optimizer='adam', loss='BinaryCrossentropy', metrics=['accuracy'])"
   ]
  },
  {
   "cell_type": "code",
   "execution_count": 83,
   "id": "3995e490",
   "metadata": {},
   "outputs": [
    {
     "data": {
      "text/plain": [
       "[(None, 100, 100, 3), (None, 100, 100, 3)]"
      ]
     },
     "execution_count": 83,
     "metadata": {},
     "output_type": "execute_result"
    }
   ],
   "source": [
    "model.input_shape"
   ]
  },
  {
   "cell_type": "code",
   "execution_count": 84,
   "id": "14c92be3",
   "metadata": {},
   "outputs": [],
   "source": [
    "# model.load_weights(checkpoint_path)"
   ]
  },
  {
   "cell_type": "code",
   "execution_count": 85,
   "id": "d1315189",
   "metadata": {},
   "outputs": [],
   "source": [
    "# for layer in model.layers:\n",
    "#     print(f\"Layer: {layer.name}\")\n",
    "#     weights = layer.get_weights()  # Get the weights of the layer\n",
    "#     if weights:\n",
    "#         for i, w in enumerate(weights):\n",
    "#             print(f\"  Weight {i + 1}: {w.shape}\")\n",
    "#     else:\n",
    "#         print(\"  No weights\")\n",
    "#     print()"
   ]
  },
  {
   "cell_type": "code",
   "execution_count": 86,
   "id": "5e86f900",
   "metadata": {},
   "outputs": [],
   "source": [
    "# model = tf.keras.models.load_model('siamesemodel.h5', \n",
    "#                                    custom_objects={'L1Dist':L1Dist, 'BinaryCrossentropy':tf.losses.BinaryCrossentropy})\n",
    "\n",
    "# # Now you can manually compile the model later if needed\n",
    "# model.compile(optimizer='adam', loss='binary_crossentropy', metrics=['accuracy'])"
   ]
  },
  {
   "cell_type": "code",
   "execution_count": 90,
   "id": "1b7721f5",
   "metadata": {},
   "outputs": [
    {
     "name": "stdout",
     "output_type": "stream",
     "text": [
      "1/1 [==============================] - 2s 2s/step\n"
     ]
    },
    {
     "data": {
      "text/plain": [
       "array([[9.9999982e-01],\n",
       "       [9.9999940e-01],\n",
       "       [1.0284330e-11],\n",
       "       [1.0000000e+00],\n",
       "       [4.8974239e-14],\n",
       "       [7.4158554e-11],\n",
       "       [1.0000000e+00],\n",
       "       [2.3973856e-10],\n",
       "       [7.6609042e-13],\n",
       "       [1.0730891e-11],\n",
       "       [4.1961882e-13],\n",
       "       [3.4331937e-13],\n",
       "       [9.9999958e-01],\n",
       "       [9.9999994e-01],\n",
       "       [1.4109864e-07],\n",
       "       [9.9999988e-01]], dtype=float32)"
      ]
     },
     "execution_count": 90,
     "metadata": {},
     "output_type": "execute_result"
    }
   ],
   "source": [
    "# Make predictions with reloaded model\n",
    "pr = model.predict([test_input, test_val])\n",
    "pr"
   ]
  },
  {
   "cell_type": "code",
   "execution_count": 93,
   "id": "9df3f0ff",
   "metadata": {},
   "outputs": [
    {
     "data": {
      "text/plain": [
       "[1, 1, 0, 1, 0, 0, 1, 0, 0, 0, 0, 0, 1, 1, 0, 1]"
      ]
     },
     "execution_count": 93,
     "metadata": {},
     "output_type": "execute_result"
    }
   ],
   "source": [
    "[1 if prediction > 0.5 else 0 for prediction in pr ]"
   ]
  },
  {
   "cell_type": "code",
   "execution_count": null,
   "id": "17fc8ba4",
   "metadata": {},
   "outputs": [],
   "source": []
  },
  {
   "cell_type": "code",
   "execution_count": 117,
   "id": "2787012a",
   "metadata": {},
   "outputs": [],
   "source": [
    "# model.load_weights(checkpoint_dir)\n",
    "# os.listdir(checkpoint_dir)"
   ]
  },
  {
   "cell_type": "code",
   "execution_count": 88,
   "id": "3259651e",
   "metadata": {},
   "outputs": [],
   "source": [
    "# latest = tf.train.latest_checkpoint(checkpoint_dir)\n",
    "# latest"
   ]
  },
  {
   "cell_type": "code",
   "execution_count": 89,
   "id": "4f4ea6b7",
   "metadata": {},
   "outputs": [],
   "source": [
    "# model.load_weights(latest)"
   ]
  },
  {
   "cell_type": "code",
   "execution_count": 119,
   "id": "efa99434",
   "metadata": {},
   "outputs": [],
   "source": [
    "# model.load_weights(latest)"
   ]
  },
  {
   "cell_type": "code",
   "execution_count": 97,
   "id": "8ffdd34c",
   "metadata": {},
   "outputs": [
    {
     "name": "stdout",
     "output_type": "stream",
     "text": [
      "Model: \"SiameseNetwork\"\n",
      "__________________________________________________________________________________________________\n",
      " Layer (type)                Output Shape                 Param #   Connected to                  \n",
      "==================================================================================================\n",
      " input_img (InputLayer)      [(None, 100, 100, 3)]        0         []                            \n",
      "                                                                                                  \n",
      " validation_img (InputLayer  [(None, 100, 100, 3)]        0         []                            \n",
      " )                                                                                                \n",
      "                                                                                                  \n",
      " embedding (Functional)      (None, 4096)                 3896044   ['input_img[0][0]',           \n",
      "                                                          8          'validation_img[0][0]']      \n",
      "                                                                                                  \n",
      " l1_dist_3 (L1Dist)          (None, 4096)                 0         ['embedding[0][0]',           \n",
      "                                                                     'embedding[1][0]']           \n",
      "                                                                                                  \n",
      " dense_1 (Dense)             (None, 1)                    4097      ['l1_dist_3[0][0]']           \n",
      "                                                                                                  \n",
      "==================================================================================================\n",
      "Total params: 38964545 (148.64 MB)\n",
      "Trainable params: 38964545 (148.64 MB)\n",
      "Non-trainable params: 0 (0.00 Byte)\n",
      "__________________________________________________________________________________________________\n"
     ]
    }
   ],
   "source": [
    "# View model summary\n",
    "model.summary()"
   ]
  },
  {
   "cell_type": "code",
   "execution_count": 71,
   "id": "03dacca6",
   "metadata": {},
   "outputs": [],
   "source": [
    "# os.listdir(os.path.join('app_data','verification_images'))"
   ]
  },
  {
   "cell_type": "code",
   "execution_count": 98,
   "id": "9ed619d4",
   "metadata": {},
   "outputs": [],
   "source": [
    "def verify(model, detection_threshold, verification_threshold):\n",
    "    results = []\n",
    "    for image in os.listdir(os.path.join('app_data','verification_images')):\n",
    "        input_img = preprocess(os.path.join('app_data','input_image','input_image.jpg'))\n",
    "        validation_img = preprocess(os.path.join('app_data','verification_images',image))\n",
    "        \n",
    "        #Predicting\n",
    "        result = model.predict(list(np.expand_dims([input_img, validation_img], axis=1)))\n",
    "        results.append(result)\n",
    "        \n",
    "    #detection threshold calculation\n",
    "    detection = np.sum(np.array(results) > detection_threshold)\n",
    "    #verification threshold calculation\n",
    "    verification = detection / len(os.listdir(os.path.join('app_data','verification_images')))\n",
    "    verified = verification >= verification_threshold\n",
    "    \n",
    "    return results, verified"
   ]
  },
  {
   "cell_type": "code",
   "execution_count": 108,
   "id": "89ddeeb5",
   "metadata": {},
   "outputs": [
    {
     "name": "stdout",
     "output_type": "stream",
     "text": [
      "1/1 [==============================] - 0s 397ms/step\n",
      "1/1 [==============================] - 0s 330ms/step\n",
      "1/1 [==============================] - 0s 351ms/step\n",
      "1/1 [==============================] - 0s 332ms/step\n",
      "1/1 [==============================] - 0s 384ms/step\n",
      "1/1 [==============================] - 0s 361ms/step\n",
      "1/1 [==============================] - 0s 357ms/step\n",
      "1/1 [==============================] - 0s 348ms/step\n",
      "1/1 [==============================] - 0s 376ms/step\n",
      "1/1 [==============================] - 0s 374ms/step\n",
      "1/1 [==============================] - 0s 355ms/step\n",
      "1/1 [==============================] - 0s 366ms/step\n",
      "1/1 [==============================] - 0s 335ms/step\n",
      "1/1 [==============================] - 0s 375ms/step\n",
      "1/1 [==============================] - 0s 334ms/step\n",
      "1/1 [==============================] - 0s 347ms/step\n",
      "1/1 [==============================] - 0s 362ms/step\n",
      "1/1 [==============================] - 0s 394ms/step\n",
      "1/1 [==============================] - 0s 343ms/step\n",
      "1/1 [==============================] - 0s 349ms/step\n",
      "1/1 [==============================] - 0s 377ms/step\n",
      "1/1 [==============================] - 0s 375ms/step\n",
      "1/1 [==============================] - 0s 328ms/step\n",
      "1/1 [==============================] - 0s 247ms/step\n",
      "1/1 [==============================] - 0s 272ms/step\n",
      "1/1 [==============================] - 0s 256ms/step\n",
      "1/1 [==============================] - 0s 247ms/step\n",
      "1/1 [==============================] - 0s 252ms/step\n",
      "1/1 [==============================] - 0s 260ms/step\n",
      "1/1 [==============================] - 0s 242ms/step\n",
      "1/1 [==============================] - 0s 240ms/step\n",
      "1/1 [==============================] - 0s 239ms/step\n",
      "1/1 [==============================] - 0s 263ms/step\n",
      "1/1 [==============================] - 0s 245ms/step\n",
      "1/1 [==============================] - 0s 245ms/step\n",
      "1/1 [==============================] - 0s 241ms/step\n",
      "1/1 [==============================] - 0s 241ms/step\n",
      "1/1 [==============================] - 0s 240ms/step\n",
      "1/1 [==============================] - 0s 240ms/step\n",
      "1/1 [==============================] - 0s 270ms/step\n",
      "1/1 [==============================] - 0s 245ms/step\n",
      "1/1 [==============================] - 0s 239ms/step\n",
      "1/1 [==============================] - 0s 235ms/step\n",
      "1/1 [==============================] - 0s 261ms/step\n",
      "1/1 [==============================] - 0s 282ms/step\n",
      "1/1 [==============================] - 0s 267ms/step\n",
      "1/1 [==============================] - 0s 249ms/step\n",
      "1/1 [==============================] - 0s 245ms/step\n",
      "1/1 [==============================] - 0s 244ms/step\n",
      "1/1 [==============================] - 0s 240ms/step\n",
      "True\n"
     ]
    }
   ],
   "source": [
    "#OpenCV Real Time Detection\n",
    "\n",
    "cap = cv2.VideoCapture(0)\n",
    "while cap.isOpened():\n",
    "    ret, frame = cap.read()\n",
    "    \n",
    "    frame = frame[150:150+250,230:230+250,:]\n",
    "    \n",
    "    # Fliping the image\n",
    "    flip = cv2.flip(frame,1)\n",
    " \n",
    "    cv2.imshow('Verification', flip)\n",
    "#     cv2.imshow('Verification', frame)\n",
    "    \n",
    "    if cv2.waitKey(10) & 0xFF == ord('v'):\n",
    "        cv2.imwrite(os.path.join('app_data','input_image','input_image.jpg'), frame)\n",
    "        #Verifiying\n",
    "        results, verified = verify(model, 0.9, 0.9)\n",
    "        print(verified)\n",
    "    \n",
    "    \n",
    "    if cv2.waitKey(10) & 0xFF == ord('q'):\n",
    "        break\n",
    "cap.release()\n",
    "cv2.destroyAllWindows()"
   ]
  },
  {
   "cell_type": "code",
   "execution_count": 109,
   "id": "b50b94d1",
   "metadata": {},
   "outputs": [
    {
     "data": {
      "text/plain": [
       "50"
      ]
     },
     "execution_count": 109,
     "metadata": {},
     "output_type": "execute_result"
    }
   ],
   "source": [
    "np.sum(np.squeeze(results) > 0.9)"
   ]
  },
  {
   "cell_type": "code",
   "execution_count": 110,
   "id": "3f873083",
   "metadata": {},
   "outputs": [
    {
     "data": {
      "text/plain": [
       "[array([[0.9999432]], dtype=float32),\n",
       " array([[0.99993914]], dtype=float32),\n",
       " array([[0.9997232]], dtype=float32),\n",
       " array([[0.9997829]], dtype=float32),\n",
       " array([[0.9999432]], dtype=float32),\n",
       " array([[0.9999748]], dtype=float32),\n",
       " array([[0.9999718]], dtype=float32),\n",
       " array([[0.99999475]], dtype=float32),\n",
       " array([[0.99998236]], dtype=float32),\n",
       " array([[0.99999267]], dtype=float32),\n",
       " array([[0.9999991]], dtype=float32),\n",
       " array([[0.9999994]], dtype=float32),\n",
       " array([[0.9999991]], dtype=float32),\n",
       " array([[0.99991393]], dtype=float32),\n",
       " array([[0.99999714]], dtype=float32),\n",
       " array([[0.99999535]], dtype=float32),\n",
       " array([[0.99999946]], dtype=float32),\n",
       " array([[0.9999994]], dtype=float32),\n",
       " array([[0.99999136]], dtype=float32),\n",
       " array([[0.99998933]], dtype=float32),\n",
       " array([[0.99987674]], dtype=float32),\n",
       " array([[0.99999535]], dtype=float32),\n",
       " array([[0.99999946]], dtype=float32),\n",
       " array([[0.9999871]], dtype=float32),\n",
       " array([[0.9999884]], dtype=float32),\n",
       " array([[0.9999616]], dtype=float32),\n",
       " array([[0.9999986]], dtype=float32),\n",
       " array([[0.99999636]], dtype=float32),\n",
       " array([[0.9999981]], dtype=float32),\n",
       " array([[0.9999996]], dtype=float32),\n",
       " array([[0.9999921]], dtype=float32),\n",
       " array([[0.9999925]], dtype=float32),\n",
       " array([[0.99999774]], dtype=float32),\n",
       " array([[0.9999827]], dtype=float32),\n",
       " array([[0.9999918]], dtype=float32),\n",
       " array([[0.9999987]], dtype=float32),\n",
       " array([[0.99999225]], dtype=float32),\n",
       " array([[0.99999875]], dtype=float32),\n",
       " array([[0.99999917]], dtype=float32),\n",
       " array([[0.99999964]], dtype=float32),\n",
       " array([[0.99999964]], dtype=float32),\n",
       " array([[0.99999976]], dtype=float32),\n",
       " array([[0.99999887]], dtype=float32),\n",
       " array([[0.99999964]], dtype=float32),\n",
       " array([[0.99999934]], dtype=float32),\n",
       " array([[0.99999905]], dtype=float32),\n",
       " array([[0.9999996]], dtype=float32),\n",
       " array([[0.9999998]], dtype=float32),\n",
       " array([[0.9999999]], dtype=float32),\n",
       " array([[0.9999992]], dtype=float32)]"
      ]
     },
     "execution_count": 110,
     "metadata": {},
     "output_type": "execute_result"
    }
   ],
   "source": [
    "results"
   ]
  },
  {
   "cell_type": "code",
   "execution_count": 107,
   "id": "3dbb59aa",
   "metadata": {},
   "outputs": [
    {
     "data": {
      "text/plain": [
       "0.52"
      ]
     },
     "execution_count": 107,
     "metadata": {},
     "output_type": "execute_result"
    }
   ],
   "source": [
    "26/50"
   ]
  },
  {
   "cell_type": "code",
   "execution_count": 86,
   "id": "8b9b2442",
   "metadata": {},
   "outputs": [
    {
     "name": "stdout",
     "output_type": "stream",
     "text": [
      "No GPU devices available.\n"
     ]
    }
   ],
   "source": [
    "physical_devices = tf.config.experimental.list_physical_devices('GPU')\n",
    "\n",
    "if len(physical_devices) > 0:\n",
    "    print(\"Available GPU devices:\")\n",
    "    for device in physical_devices:\n",
    "        print(device)\n",
    "else:\n",
    "    print(\"No GPU devices available.\")"
   ]
  },
  {
   "cell_type": "code",
   "execution_count": null,
   "id": "ca76c3d3",
   "metadata": {},
   "outputs": [],
   "source": []
  }
 ],
 "metadata": {
  "kernelspec": {
   "display_name": "Python 3 (ipykernel)",
   "language": "python",
   "name": "python3"
  },
  "language_info": {
   "codemirror_mode": {
    "name": "ipython",
    "version": 3
   },
   "file_extension": ".py",
   "mimetype": "text/x-python",
   "name": "python",
   "nbconvert_exporter": "python",
   "pygments_lexer": "ipython3",
   "version": "3.11.5"
  }
 },
 "nbformat": 4,
 "nbformat_minor": 5
}
